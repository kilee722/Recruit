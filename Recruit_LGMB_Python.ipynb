{
  "nbformat": 4,
  "nbformat_minor": 0,
  "metadata": {
    "colab": {
      "name": "Untitled0.ipynb",
      "provenance": [],
      "collapsed_sections": []
    },
    "kernelspec": {
      "name": "python3",
      "display_name": "Python 3"
    }
  },
  "cells": [
    {
      "cell_type": "code",
      "metadata": {
        "id": "M2P5Jdb0aKDg"
      },
      "source": [
        "import numpy as np\r\n",
        "import pandas as pd\r\n",
        "import seaborn as sns\r\n",
        "import matplotlib as plt\r\n",
        "import lightgbm as lgb"
      ],
      "execution_count": 1,
      "outputs": []
    },
    {
      "cell_type": "code",
      "metadata": {
        "id": "yJvNGTLjOxrZ"
      },
      "source": [
        "air_reserve = pd.read_csv('https://github.com/kilee722/Recruit/raw/main/raw_dataset/air_reserve.csv', \r\n",
        "                          dtype={'air_store_id': str, 'reserve_visitors': np.int32}, parse_dates=['visit_datetime', 'reserve_datetime'])\r\n",
        "air_store_info = pd.read_csv('https://github.com/kilee722/Recruit/raw/main/raw_dataset/air_store_info.csv',\r\n",
        "                             dtype={'air_store_id': str, 'air_genre_name': str, 'air_area_name': str, 'latitude': np.float32, 'longitude': np.float32})\r\n",
        "air_visit_data = pd.read_csv('https://github.com/kilee722/Recruit/raw/main/raw_dataset/air_visit_data.csv', \r\n",
        "                             dtype={'air_store_id': str, 'visitors': np.int32}, parse_dates=['visit_date'])\r\n",
        "date_info = pd.read_csv(\"https://github.com/kilee722/Recruit/raw/main/raw_dataset/date_info.csv\",\r\n",
        "                        dtype={'day_of_week': str, 'holiday_flg': bool}, parse_dates=['calendar_date'])\r\n",
        "hpg_reserve = pd.read_parquet(\"https://github.com/kilee722/Recruit/raw/main/raw_dataset/hpg_reserve.parquet\")\r\n",
        "hpg_store_info = pd.read_csv(\"https://github.com/kilee722/Recruit/raw/main/raw_dataset/hpg_store_info.csv\",\r\n",
        "                             dtype={'hpg_store_id': str, 'hpg_genre_name': str, 'hpg_area_name': str, 'latitude': np.float32, 'longitude': np.float32})\r\n",
        "store_id_relation = pd.read_csv('https://github.com/kilee722/Recruit/raw/main/raw_dataset/store_id_relation.csv',\r\n",
        "                                dtype={'air_store_id': str, 'hpg_store_id': str})"
      ],
      "execution_count": 2,
      "outputs": []
    },
    {
      "cell_type": "code",
      "metadata": {
        "colab": {
          "base_uri": "https://localhost:8080/",
          "height": 419
        },
        "id": "xTDTzPg5Y6NK",
        "outputId": "2e1c5ed5-11dd-47f3-cf37-5b8fcb8f898e"
      },
      "source": [
        "air_reserve_visitors = air_reserve.groupby(['air_store_id', pd.to_datetime(air_reserve.visit_datetime.dt.date)]).sum().reset_index(drop=False)\r\n",
        "air_reserve_visitors.rename(columns={'visit_datetime': 'visit_date'}, inplace=True)\r\n",
        "air_reserve_visitors = pd.merge(air_reserve_visitors, store_id_relation, how='left', on='air_store_id')\r\n",
        "air_reserve_visitors"
      ],
      "execution_count": 3,
      "outputs": [
        {
          "output_type": "execute_result",
          "data": {
            "text/html": [
              "<div>\n",
              "<style scoped>\n",
              "    .dataframe tbody tr th:only-of-type {\n",
              "        vertical-align: middle;\n",
              "    }\n",
              "\n",
              "    .dataframe tbody tr th {\n",
              "        vertical-align: top;\n",
              "    }\n",
              "\n",
              "    .dataframe thead th {\n",
              "        text-align: right;\n",
              "    }\n",
              "</style>\n",
              "<table border=\"1\" class=\"dataframe\">\n",
              "  <thead>\n",
              "    <tr style=\"text-align: right;\">\n",
              "      <th></th>\n",
              "      <th>air_store_id</th>\n",
              "      <th>visit_date</th>\n",
              "      <th>reserve_visitors</th>\n",
              "      <th>hpg_store_id</th>\n",
              "    </tr>\n",
              "  </thead>\n",
              "  <tbody>\n",
              "    <tr>\n",
              "      <th>0</th>\n",
              "      <td>air_00a91d42b08b08d9</td>\n",
              "      <td>2016-10-31</td>\n",
              "      <td>2</td>\n",
              "      <td>hpg_fbe603376b5980fc</td>\n",
              "    </tr>\n",
              "    <tr>\n",
              "      <th>1</th>\n",
              "      <td>air_00a91d42b08b08d9</td>\n",
              "      <td>2016-12-05</td>\n",
              "      <td>9</td>\n",
              "      <td>hpg_fbe603376b5980fc</td>\n",
              "    </tr>\n",
              "    <tr>\n",
              "      <th>2</th>\n",
              "      <td>air_00a91d42b08b08d9</td>\n",
              "      <td>2016-12-14</td>\n",
              "      <td>18</td>\n",
              "      <td>hpg_fbe603376b5980fc</td>\n",
              "    </tr>\n",
              "    <tr>\n",
              "      <th>3</th>\n",
              "      <td>air_00a91d42b08b08d9</td>\n",
              "      <td>2016-12-17</td>\n",
              "      <td>2</td>\n",
              "      <td>hpg_fbe603376b5980fc</td>\n",
              "    </tr>\n",
              "    <tr>\n",
              "      <th>4</th>\n",
              "      <td>air_00a91d42b08b08d9</td>\n",
              "      <td>2016-12-20</td>\n",
              "      <td>4</td>\n",
              "      <td>hpg_fbe603376b5980fc</td>\n",
              "    </tr>\n",
              "    <tr>\n",
              "      <th>...</th>\n",
              "      <td>...</td>\n",
              "      <td>...</td>\n",
              "      <td>...</td>\n",
              "      <td>...</td>\n",
              "    </tr>\n",
              "    <tr>\n",
              "      <th>29825</th>\n",
              "      <td>air_fea5dc9594450608</td>\n",
              "      <td>2017-04-22</td>\n",
              "      <td>2</td>\n",
              "      <td>hpg_6507818140022452</td>\n",
              "    </tr>\n",
              "    <tr>\n",
              "      <th>29826</th>\n",
              "      <td>air_fea5dc9594450608</td>\n",
              "      <td>2017-04-25</td>\n",
              "      <td>2</td>\n",
              "      <td>hpg_6507818140022452</td>\n",
              "    </tr>\n",
              "    <tr>\n",
              "      <th>29827</th>\n",
              "      <td>air_fea5dc9594450608</td>\n",
              "      <td>2017-04-28</td>\n",
              "      <td>3</td>\n",
              "      <td>hpg_6507818140022452</td>\n",
              "    </tr>\n",
              "    <tr>\n",
              "      <th>29828</th>\n",
              "      <td>air_fea5dc9594450608</td>\n",
              "      <td>2017-05-20</td>\n",
              "      <td>6</td>\n",
              "      <td>hpg_6507818140022452</td>\n",
              "    </tr>\n",
              "    <tr>\n",
              "      <th>29829</th>\n",
              "      <td>air_fee8dcf4d619598e</td>\n",
              "      <td>2017-01-09</td>\n",
              "      <td>5</td>\n",
              "      <td>NaN</td>\n",
              "    </tr>\n",
              "  </tbody>\n",
              "</table>\n",
              "<p>29830 rows × 4 columns</p>\n",
              "</div>"
            ],
            "text/plain": [
              "               air_store_id visit_date  reserve_visitors          hpg_store_id\n",
              "0      air_00a91d42b08b08d9 2016-10-31                 2  hpg_fbe603376b5980fc\n",
              "1      air_00a91d42b08b08d9 2016-12-05                 9  hpg_fbe603376b5980fc\n",
              "2      air_00a91d42b08b08d9 2016-12-14                18  hpg_fbe603376b5980fc\n",
              "3      air_00a91d42b08b08d9 2016-12-17                 2  hpg_fbe603376b5980fc\n",
              "4      air_00a91d42b08b08d9 2016-12-20                 4  hpg_fbe603376b5980fc\n",
              "...                     ...        ...               ...                   ...\n",
              "29825  air_fea5dc9594450608 2017-04-22                 2  hpg_6507818140022452\n",
              "29826  air_fea5dc9594450608 2017-04-25                 2  hpg_6507818140022452\n",
              "29827  air_fea5dc9594450608 2017-04-28                 3  hpg_6507818140022452\n",
              "29828  air_fea5dc9594450608 2017-05-20                 6  hpg_6507818140022452\n",
              "29829  air_fee8dcf4d619598e 2017-01-09                 5                   NaN\n",
              "\n",
              "[29830 rows x 4 columns]"
            ]
          },
          "metadata": {
            "tags": []
          },
          "execution_count": 3
        }
      ]
    },
    {
      "cell_type": "code",
      "metadata": {
        "colab": {
          "base_uri": "https://localhost:8080/",
          "height": 419
        },
        "id": "fKJXJTLVZO7X",
        "outputId": "af58fec4-80d8-4b1c-9ffd-b4ae01a4a5ca"
      },
      "source": [
        "hpg_reserve.visit_datetime = pd.to_datetime(hpg_reserve.visit_datetime)\r\n",
        "hpg_reserve.reserve_datetime = pd.to_datetime(hpg_reserve.reserve_datetime)\r\n",
        "hpg_reserve.reserve_visitors = hpg_reserve.reserve_visitors.astype(np.int32)\r\n",
        "hpg_reserve_visitors = hpg_reserve.groupby(['hpg_store_id', pd.to_datetime(hpg_reserve.visit_datetime.dt.date)]).sum().reset_index(drop=False)\r\n",
        "hpg_reserve_visitors.rename(columns={'visit_datetime': 'visit_date'}, inplace=True)\r\n",
        "hpg_reserve_visitors = pd.merge(hpg_reserve_visitors, store_id_relation, how='left', on='hpg_store_id')\r\n",
        "hpg_reserve_visitors = hpg_reserve_visitors.loc[~hpg_reserve_visitors.air_store_id.isna().values, :]\r\n",
        "hpg_reserve_visitors"
      ],
      "execution_count": 4,
      "outputs": [
        {
          "output_type": "execute_result",
          "data": {
            "text/html": [
              "<div>\n",
              "<style scoped>\n",
              "    .dataframe tbody tr th:only-of-type {\n",
              "        vertical-align: middle;\n",
              "    }\n",
              "\n",
              "    .dataframe tbody tr th {\n",
              "        vertical-align: top;\n",
              "    }\n",
              "\n",
              "    .dataframe thead th {\n",
              "        text-align: right;\n",
              "    }\n",
              "</style>\n",
              "<table border=\"1\" class=\"dataframe\">\n",
              "  <thead>\n",
              "    <tr style=\"text-align: right;\">\n",
              "      <th></th>\n",
              "      <th>hpg_store_id</th>\n",
              "      <th>visit_date</th>\n",
              "      <th>reserve_visitors</th>\n",
              "      <th>air_store_id</th>\n",
              "    </tr>\n",
              "  </thead>\n",
              "  <tbody>\n",
              "    <tr>\n",
              "      <th>8717</th>\n",
              "      <td>hpg_0183ec352e38903c</td>\n",
              "      <td>2016-01-09</td>\n",
              "      <td>2</td>\n",
              "      <td>air_cbe867adcf44e14f</td>\n",
              "    </tr>\n",
              "    <tr>\n",
              "      <th>8718</th>\n",
              "      <td>hpg_0183ec352e38903c</td>\n",
              "      <td>2016-01-11</td>\n",
              "      <td>8</td>\n",
              "      <td>air_cbe867adcf44e14f</td>\n",
              "    </tr>\n",
              "    <tr>\n",
              "      <th>8719</th>\n",
              "      <td>hpg_0183ec352e38903c</td>\n",
              "      <td>2016-01-14</td>\n",
              "      <td>11</td>\n",
              "      <td>air_cbe867adcf44e14f</td>\n",
              "    </tr>\n",
              "    <tr>\n",
              "      <th>8720</th>\n",
              "      <td>hpg_0183ec352e38903c</td>\n",
              "      <td>2016-01-15</td>\n",
              "      <td>8</td>\n",
              "      <td>air_cbe867adcf44e14f</td>\n",
              "    </tr>\n",
              "    <tr>\n",
              "      <th>8721</th>\n",
              "      <td>hpg_0183ec352e38903c</td>\n",
              "      <td>2016-01-18</td>\n",
              "      <td>9</td>\n",
              "      <td>air_cbe867adcf44e14f</td>\n",
              "    </tr>\n",
              "    <tr>\n",
              "      <th>...</th>\n",
              "      <td>...</td>\n",
              "      <td>...</td>\n",
              "      <td>...</td>\n",
              "      <td>...</td>\n",
              "    </tr>\n",
              "    <tr>\n",
              "      <th>1338634</th>\n",
              "      <td>hpg_fc892fe8d342a787</td>\n",
              "      <td>2017-04-27</td>\n",
              "      <td>5</td>\n",
              "      <td>air_ee3ba9af184c6c82</td>\n",
              "    </tr>\n",
              "    <tr>\n",
              "      <th>1338635</th>\n",
              "      <td>hpg_fc892fe8d342a787</td>\n",
              "      <td>2017-04-28</td>\n",
              "      <td>7</td>\n",
              "      <td>air_ee3ba9af184c6c82</td>\n",
              "    </tr>\n",
              "    <tr>\n",
              "      <th>1338636</th>\n",
              "      <td>hpg_fc892fe8d342a787</td>\n",
              "      <td>2017-04-29</td>\n",
              "      <td>3</td>\n",
              "      <td>air_ee3ba9af184c6c82</td>\n",
              "    </tr>\n",
              "    <tr>\n",
              "      <th>1338637</th>\n",
              "      <td>hpg_fc892fe8d342a787</td>\n",
              "      <td>2017-05-05</td>\n",
              "      <td>2</td>\n",
              "      <td>air_ee3ba9af184c6c82</td>\n",
              "    </tr>\n",
              "    <tr>\n",
              "      <th>1338638</th>\n",
              "      <td>hpg_fc892fe8d342a787</td>\n",
              "      <td>2017-05-06</td>\n",
              "      <td>4</td>\n",
              "      <td>air_ee3ba9af184c6c82</td>\n",
              "    </tr>\n",
              "  </tbody>\n",
              "</table>\n",
              "<p>18620 rows × 4 columns</p>\n",
              "</div>"
            ],
            "text/plain": [
              "                 hpg_store_id  ...          air_store_id\n",
              "8717     hpg_0183ec352e38903c  ...  air_cbe867adcf44e14f\n",
              "8718     hpg_0183ec352e38903c  ...  air_cbe867adcf44e14f\n",
              "8719     hpg_0183ec352e38903c  ...  air_cbe867adcf44e14f\n",
              "8720     hpg_0183ec352e38903c  ...  air_cbe867adcf44e14f\n",
              "8721     hpg_0183ec352e38903c  ...  air_cbe867adcf44e14f\n",
              "...                       ...  ...                   ...\n",
              "1338634  hpg_fc892fe8d342a787  ...  air_ee3ba9af184c6c82\n",
              "1338635  hpg_fc892fe8d342a787  ...  air_ee3ba9af184c6c82\n",
              "1338636  hpg_fc892fe8d342a787  ...  air_ee3ba9af184c6c82\n",
              "1338637  hpg_fc892fe8d342a787  ...  air_ee3ba9af184c6c82\n",
              "1338638  hpg_fc892fe8d342a787  ...  air_ee3ba9af184c6c82\n",
              "\n",
              "[18620 rows x 4 columns]"
            ]
          },
          "metadata": {
            "tags": []
          },
          "execution_count": 4
        }
      ]
    },
    {
      "cell_type": "code",
      "metadata": {
        "colab": {
          "base_uri": "https://localhost:8080/",
          "height": 419
        },
        "id": "UbFUOZk3ZPBm",
        "outputId": "2ef97875-36d7-4fbb-ba81-19917557f97f"
      },
      "source": [
        "reserve_visitors = pd.concat([air_reserve_visitors, hpg_reserve_visitors]).groupby(['air_store_id', 'visit_date']).sum().reset_index(drop=False)\r\n",
        "reserve_visitors"
      ],
      "execution_count": 5,
      "outputs": [
        {
          "output_type": "execute_result",
          "data": {
            "text/html": [
              "<div>\n",
              "<style scoped>\n",
              "    .dataframe tbody tr th:only-of-type {\n",
              "        vertical-align: middle;\n",
              "    }\n",
              "\n",
              "    .dataframe tbody tr th {\n",
              "        vertical-align: top;\n",
              "    }\n",
              "\n",
              "    .dataframe thead th {\n",
              "        text-align: right;\n",
              "    }\n",
              "</style>\n",
              "<table border=\"1\" class=\"dataframe\">\n",
              "  <thead>\n",
              "    <tr style=\"text-align: right;\">\n",
              "      <th></th>\n",
              "      <th>air_store_id</th>\n",
              "      <th>visit_date</th>\n",
              "      <th>reserve_visitors</th>\n",
              "    </tr>\n",
              "  </thead>\n",
              "  <tbody>\n",
              "    <tr>\n",
              "      <th>0</th>\n",
              "      <td>air_00a91d42b08b08d9</td>\n",
              "      <td>2016-01-14</td>\n",
              "      <td>2</td>\n",
              "    </tr>\n",
              "    <tr>\n",
              "      <th>1</th>\n",
              "      <td>air_00a91d42b08b08d9</td>\n",
              "      <td>2016-01-15</td>\n",
              "      <td>4</td>\n",
              "    </tr>\n",
              "    <tr>\n",
              "      <th>2</th>\n",
              "      <td>air_00a91d42b08b08d9</td>\n",
              "      <td>2016-01-16</td>\n",
              "      <td>2</td>\n",
              "    </tr>\n",
              "    <tr>\n",
              "      <th>3</th>\n",
              "      <td>air_00a91d42b08b08d9</td>\n",
              "      <td>2016-01-22</td>\n",
              "      <td>2</td>\n",
              "    </tr>\n",
              "    <tr>\n",
              "      <th>4</th>\n",
              "      <td>air_00a91d42b08b08d9</td>\n",
              "      <td>2016-01-29</td>\n",
              "      <td>5</td>\n",
              "    </tr>\n",
              "    <tr>\n",
              "      <th>...</th>\n",
              "      <td>...</td>\n",
              "      <td>...</td>\n",
              "      <td>...</td>\n",
              "    </tr>\n",
              "    <tr>\n",
              "      <th>42188</th>\n",
              "      <td>air_fea5dc9594450608</td>\n",
              "      <td>2017-04-22</td>\n",
              "      <td>4</td>\n",
              "    </tr>\n",
              "    <tr>\n",
              "      <th>42189</th>\n",
              "      <td>air_fea5dc9594450608</td>\n",
              "      <td>2017-04-25</td>\n",
              "      <td>4</td>\n",
              "    </tr>\n",
              "    <tr>\n",
              "      <th>42190</th>\n",
              "      <td>air_fea5dc9594450608</td>\n",
              "      <td>2017-04-28</td>\n",
              "      <td>6</td>\n",
              "    </tr>\n",
              "    <tr>\n",
              "      <th>42191</th>\n",
              "      <td>air_fea5dc9594450608</td>\n",
              "      <td>2017-05-20</td>\n",
              "      <td>12</td>\n",
              "    </tr>\n",
              "    <tr>\n",
              "      <th>42192</th>\n",
              "      <td>air_fee8dcf4d619598e</td>\n",
              "      <td>2017-01-09</td>\n",
              "      <td>5</td>\n",
              "    </tr>\n",
              "  </tbody>\n",
              "</table>\n",
              "<p>42193 rows × 3 columns</p>\n",
              "</div>"
            ],
            "text/plain": [
              "               air_store_id visit_date  reserve_visitors\n",
              "0      air_00a91d42b08b08d9 2016-01-14                 2\n",
              "1      air_00a91d42b08b08d9 2016-01-15                 4\n",
              "2      air_00a91d42b08b08d9 2016-01-16                 2\n",
              "3      air_00a91d42b08b08d9 2016-01-22                 2\n",
              "4      air_00a91d42b08b08d9 2016-01-29                 5\n",
              "...                     ...        ...               ...\n",
              "42188  air_fea5dc9594450608 2017-04-22                 4\n",
              "42189  air_fea5dc9594450608 2017-04-25                 4\n",
              "42190  air_fea5dc9594450608 2017-04-28                 6\n",
              "42191  air_fea5dc9594450608 2017-05-20                12\n",
              "42192  air_fee8dcf4d619598e 2017-01-09                 5\n",
              "\n",
              "[42193 rows x 3 columns]"
            ]
          },
          "metadata": {
            "tags": []
          },
          "execution_count": 5
        }
      ]
    },
    {
      "cell_type": "code",
      "metadata": {
        "id": "_T-N-QsZ9aDZ",
        "colab": {
          "base_uri": "https://localhost:8080/",
          "height": 419
        },
        "outputId": "55f4f9b6-5d3f-4fed-b428-b1d8b29e2a8c"
      },
      "source": [
        "train = pd.merge(air_visit_data, date_info, how='left', left_on='visit_date', right_on='calendar_date').drop(columns='calendar_date')\r\n",
        "# train = pd.merge(train, reserve_visitors, how='left', on=['air_store_id', 'visit_date'])\r\n",
        "train"
      ],
      "execution_count": 6,
      "outputs": [
        {
          "output_type": "execute_result",
          "data": {
            "text/html": [
              "<div>\n",
              "<style scoped>\n",
              "    .dataframe tbody tr th:only-of-type {\n",
              "        vertical-align: middle;\n",
              "    }\n",
              "\n",
              "    .dataframe tbody tr th {\n",
              "        vertical-align: top;\n",
              "    }\n",
              "\n",
              "    .dataframe thead th {\n",
              "        text-align: right;\n",
              "    }\n",
              "</style>\n",
              "<table border=\"1\" class=\"dataframe\">\n",
              "  <thead>\n",
              "    <tr style=\"text-align: right;\">\n",
              "      <th></th>\n",
              "      <th>air_store_id</th>\n",
              "      <th>visit_date</th>\n",
              "      <th>visitors</th>\n",
              "      <th>day_of_week</th>\n",
              "      <th>holiday_flg</th>\n",
              "    </tr>\n",
              "  </thead>\n",
              "  <tbody>\n",
              "    <tr>\n",
              "      <th>0</th>\n",
              "      <td>air_ba937bf13d40fb24</td>\n",
              "      <td>2016-01-13</td>\n",
              "      <td>25</td>\n",
              "      <td>Wednesday</td>\n",
              "      <td>False</td>\n",
              "    </tr>\n",
              "    <tr>\n",
              "      <th>1</th>\n",
              "      <td>air_ba937bf13d40fb24</td>\n",
              "      <td>2016-01-14</td>\n",
              "      <td>32</td>\n",
              "      <td>Thursday</td>\n",
              "      <td>False</td>\n",
              "    </tr>\n",
              "    <tr>\n",
              "      <th>2</th>\n",
              "      <td>air_ba937bf13d40fb24</td>\n",
              "      <td>2016-01-15</td>\n",
              "      <td>29</td>\n",
              "      <td>Friday</td>\n",
              "      <td>False</td>\n",
              "    </tr>\n",
              "    <tr>\n",
              "      <th>3</th>\n",
              "      <td>air_ba937bf13d40fb24</td>\n",
              "      <td>2016-01-16</td>\n",
              "      <td>22</td>\n",
              "      <td>Saturday</td>\n",
              "      <td>False</td>\n",
              "    </tr>\n",
              "    <tr>\n",
              "      <th>4</th>\n",
              "      <td>air_ba937bf13d40fb24</td>\n",
              "      <td>2016-01-18</td>\n",
              "      <td>6</td>\n",
              "      <td>Monday</td>\n",
              "      <td>False</td>\n",
              "    </tr>\n",
              "    <tr>\n",
              "      <th>...</th>\n",
              "      <td>...</td>\n",
              "      <td>...</td>\n",
              "      <td>...</td>\n",
              "      <td>...</td>\n",
              "      <td>...</td>\n",
              "    </tr>\n",
              "    <tr>\n",
              "      <th>252103</th>\n",
              "      <td>air_24e8414b9b07decb</td>\n",
              "      <td>2017-04-18</td>\n",
              "      <td>6</td>\n",
              "      <td>Tuesday</td>\n",
              "      <td>False</td>\n",
              "    </tr>\n",
              "    <tr>\n",
              "      <th>252104</th>\n",
              "      <td>air_24e8414b9b07decb</td>\n",
              "      <td>2017-04-19</td>\n",
              "      <td>6</td>\n",
              "      <td>Wednesday</td>\n",
              "      <td>False</td>\n",
              "    </tr>\n",
              "    <tr>\n",
              "      <th>252105</th>\n",
              "      <td>air_24e8414b9b07decb</td>\n",
              "      <td>2017-04-20</td>\n",
              "      <td>7</td>\n",
              "      <td>Thursday</td>\n",
              "      <td>False</td>\n",
              "    </tr>\n",
              "    <tr>\n",
              "      <th>252106</th>\n",
              "      <td>air_24e8414b9b07decb</td>\n",
              "      <td>2017-04-21</td>\n",
              "      <td>8</td>\n",
              "      <td>Friday</td>\n",
              "      <td>False</td>\n",
              "    </tr>\n",
              "    <tr>\n",
              "      <th>252107</th>\n",
              "      <td>air_24e8414b9b07decb</td>\n",
              "      <td>2017-04-22</td>\n",
              "      <td>5</td>\n",
              "      <td>Saturday</td>\n",
              "      <td>False</td>\n",
              "    </tr>\n",
              "  </tbody>\n",
              "</table>\n",
              "<p>252108 rows × 5 columns</p>\n",
              "</div>"
            ],
            "text/plain": [
              "                air_store_id visit_date  visitors day_of_week  holiday_flg\n",
              "0       air_ba937bf13d40fb24 2016-01-13        25   Wednesday        False\n",
              "1       air_ba937bf13d40fb24 2016-01-14        32    Thursday        False\n",
              "2       air_ba937bf13d40fb24 2016-01-15        29      Friday        False\n",
              "3       air_ba937bf13d40fb24 2016-01-16        22    Saturday        False\n",
              "4       air_ba937bf13d40fb24 2016-01-18         6      Monday        False\n",
              "...                      ...        ...       ...         ...          ...\n",
              "252103  air_24e8414b9b07decb 2017-04-18         6     Tuesday        False\n",
              "252104  air_24e8414b9b07decb 2017-04-19         6   Wednesday        False\n",
              "252105  air_24e8414b9b07decb 2017-04-20         7    Thursday        False\n",
              "252106  air_24e8414b9b07decb 2017-04-21         8      Friday        False\n",
              "252107  air_24e8414b9b07decb 2017-04-22         5    Saturday        False\n",
              "\n",
              "[252108 rows x 5 columns]"
            ]
          },
          "metadata": {
            "tags": []
          },
          "execution_count": 6
        }
      ]
    },
    {
      "cell_type": "code",
      "metadata": {
        "id": "lHyfL4FpkUmD"
      },
      "source": [
        "train['year'] = train['visit_date'].dt.year\r\n",
        "train['month'] = train['visit_date'].dt.month\r\n",
        "train['day'] = train['visit_date'].dt.day"
      ],
      "execution_count": 7,
      "outputs": []
    },
    {
      "cell_type": "code",
      "metadata": {
        "colab": {
          "base_uri": "https://localhost:8080/",
          "height": 419
        },
        "id": "u_r7_wAum1Ye",
        "outputId": "8f27951e-647b-4e80-a34b-d21a70b50112"
      },
      "source": [
        "train"
      ],
      "execution_count": 8,
      "outputs": [
        {
          "output_type": "execute_result",
          "data": {
            "text/html": [
              "<div>\n",
              "<style scoped>\n",
              "    .dataframe tbody tr th:only-of-type {\n",
              "        vertical-align: middle;\n",
              "    }\n",
              "\n",
              "    .dataframe tbody tr th {\n",
              "        vertical-align: top;\n",
              "    }\n",
              "\n",
              "    .dataframe thead th {\n",
              "        text-align: right;\n",
              "    }\n",
              "</style>\n",
              "<table border=\"1\" class=\"dataframe\">\n",
              "  <thead>\n",
              "    <tr style=\"text-align: right;\">\n",
              "      <th></th>\n",
              "      <th>air_store_id</th>\n",
              "      <th>visit_date</th>\n",
              "      <th>visitors</th>\n",
              "      <th>day_of_week</th>\n",
              "      <th>holiday_flg</th>\n",
              "      <th>year</th>\n",
              "      <th>month</th>\n",
              "      <th>day</th>\n",
              "    </tr>\n",
              "  </thead>\n",
              "  <tbody>\n",
              "    <tr>\n",
              "      <th>0</th>\n",
              "      <td>air_ba937bf13d40fb24</td>\n",
              "      <td>2016-01-13</td>\n",
              "      <td>25</td>\n",
              "      <td>Wednesday</td>\n",
              "      <td>False</td>\n",
              "      <td>2016</td>\n",
              "      <td>1</td>\n",
              "      <td>13</td>\n",
              "    </tr>\n",
              "    <tr>\n",
              "      <th>1</th>\n",
              "      <td>air_ba937bf13d40fb24</td>\n",
              "      <td>2016-01-14</td>\n",
              "      <td>32</td>\n",
              "      <td>Thursday</td>\n",
              "      <td>False</td>\n",
              "      <td>2016</td>\n",
              "      <td>1</td>\n",
              "      <td>14</td>\n",
              "    </tr>\n",
              "    <tr>\n",
              "      <th>2</th>\n",
              "      <td>air_ba937bf13d40fb24</td>\n",
              "      <td>2016-01-15</td>\n",
              "      <td>29</td>\n",
              "      <td>Friday</td>\n",
              "      <td>False</td>\n",
              "      <td>2016</td>\n",
              "      <td>1</td>\n",
              "      <td>15</td>\n",
              "    </tr>\n",
              "    <tr>\n",
              "      <th>3</th>\n",
              "      <td>air_ba937bf13d40fb24</td>\n",
              "      <td>2016-01-16</td>\n",
              "      <td>22</td>\n",
              "      <td>Saturday</td>\n",
              "      <td>False</td>\n",
              "      <td>2016</td>\n",
              "      <td>1</td>\n",
              "      <td>16</td>\n",
              "    </tr>\n",
              "    <tr>\n",
              "      <th>4</th>\n",
              "      <td>air_ba937bf13d40fb24</td>\n",
              "      <td>2016-01-18</td>\n",
              "      <td>6</td>\n",
              "      <td>Monday</td>\n",
              "      <td>False</td>\n",
              "      <td>2016</td>\n",
              "      <td>1</td>\n",
              "      <td>18</td>\n",
              "    </tr>\n",
              "    <tr>\n",
              "      <th>...</th>\n",
              "      <td>...</td>\n",
              "      <td>...</td>\n",
              "      <td>...</td>\n",
              "      <td>...</td>\n",
              "      <td>...</td>\n",
              "      <td>...</td>\n",
              "      <td>...</td>\n",
              "      <td>...</td>\n",
              "    </tr>\n",
              "    <tr>\n",
              "      <th>252103</th>\n",
              "      <td>air_24e8414b9b07decb</td>\n",
              "      <td>2017-04-18</td>\n",
              "      <td>6</td>\n",
              "      <td>Tuesday</td>\n",
              "      <td>False</td>\n",
              "      <td>2017</td>\n",
              "      <td>4</td>\n",
              "      <td>18</td>\n",
              "    </tr>\n",
              "    <tr>\n",
              "      <th>252104</th>\n",
              "      <td>air_24e8414b9b07decb</td>\n",
              "      <td>2017-04-19</td>\n",
              "      <td>6</td>\n",
              "      <td>Wednesday</td>\n",
              "      <td>False</td>\n",
              "      <td>2017</td>\n",
              "      <td>4</td>\n",
              "      <td>19</td>\n",
              "    </tr>\n",
              "    <tr>\n",
              "      <th>252105</th>\n",
              "      <td>air_24e8414b9b07decb</td>\n",
              "      <td>2017-04-20</td>\n",
              "      <td>7</td>\n",
              "      <td>Thursday</td>\n",
              "      <td>False</td>\n",
              "      <td>2017</td>\n",
              "      <td>4</td>\n",
              "      <td>20</td>\n",
              "    </tr>\n",
              "    <tr>\n",
              "      <th>252106</th>\n",
              "      <td>air_24e8414b9b07decb</td>\n",
              "      <td>2017-04-21</td>\n",
              "      <td>8</td>\n",
              "      <td>Friday</td>\n",
              "      <td>False</td>\n",
              "      <td>2017</td>\n",
              "      <td>4</td>\n",
              "      <td>21</td>\n",
              "    </tr>\n",
              "    <tr>\n",
              "      <th>252107</th>\n",
              "      <td>air_24e8414b9b07decb</td>\n",
              "      <td>2017-04-22</td>\n",
              "      <td>5</td>\n",
              "      <td>Saturday</td>\n",
              "      <td>False</td>\n",
              "      <td>2017</td>\n",
              "      <td>4</td>\n",
              "      <td>22</td>\n",
              "    </tr>\n",
              "  </tbody>\n",
              "</table>\n",
              "<p>252108 rows × 8 columns</p>\n",
              "</div>"
            ],
            "text/plain": [
              "                air_store_id visit_date  visitors  ...  year  month  day\n",
              "0       air_ba937bf13d40fb24 2016-01-13        25  ...  2016      1   13\n",
              "1       air_ba937bf13d40fb24 2016-01-14        32  ...  2016      1   14\n",
              "2       air_ba937bf13d40fb24 2016-01-15        29  ...  2016      1   15\n",
              "3       air_ba937bf13d40fb24 2016-01-16        22  ...  2016      1   16\n",
              "4       air_ba937bf13d40fb24 2016-01-18         6  ...  2016      1   18\n",
              "...                      ...        ...       ...  ...   ...    ...  ...\n",
              "252103  air_24e8414b9b07decb 2017-04-18         6  ...  2017      4   18\n",
              "252104  air_24e8414b9b07decb 2017-04-19         6  ...  2017      4   19\n",
              "252105  air_24e8414b9b07decb 2017-04-20         7  ...  2017      4   20\n",
              "252106  air_24e8414b9b07decb 2017-04-21         8  ...  2017      4   21\n",
              "252107  air_24e8414b9b07decb 2017-04-22         5  ...  2017      4   22\n",
              "\n",
              "[252108 rows x 8 columns]"
            ]
          },
          "metadata": {
            "tags": []
          },
          "execution_count": 8
        }
      ]
    },
    {
      "cell_type": "code",
      "metadata": {
        "colab": {
          "base_uri": "https://localhost:8080/",
          "height": 576
        },
        "id": "GNy6YkTSnM0D",
        "outputId": "ea70f417-674f-4ab0-873a-49ebe93891fa"
      },
      "source": [
        "train.groupby(['year','month'])[['visitors']].sum()"
      ],
      "execution_count": 9,
      "outputs": [
        {
          "output_type": "execute_result",
          "data": {
            "text/html": [
              "<div>\n",
              "<style scoped>\n",
              "    .dataframe tbody tr th:only-of-type {\n",
              "        vertical-align: middle;\n",
              "    }\n",
              "\n",
              "    .dataframe tbody tr th {\n",
              "        vertical-align: top;\n",
              "    }\n",
              "\n",
              "    .dataframe thead th {\n",
              "        text-align: right;\n",
              "    }\n",
              "</style>\n",
              "<table border=\"1\" class=\"dataframe\">\n",
              "  <thead>\n",
              "    <tr style=\"text-align: right;\">\n",
              "      <th></th>\n",
              "      <th></th>\n",
              "      <th>visitors</th>\n",
              "    </tr>\n",
              "    <tr>\n",
              "      <th>year</th>\n",
              "      <th>month</th>\n",
              "      <th></th>\n",
              "    </tr>\n",
              "  </thead>\n",
              "  <tbody>\n",
              "    <tr>\n",
              "      <th rowspan=\"12\" valign=\"top\">2016</th>\n",
              "      <th>1</th>\n",
              "      <td>152924</td>\n",
              "    </tr>\n",
              "    <tr>\n",
              "      <th>2</th>\n",
              "      <td>159934</td>\n",
              "    </tr>\n",
              "    <tr>\n",
              "      <th>3</th>\n",
              "      <td>189292</td>\n",
              "    </tr>\n",
              "    <tr>\n",
              "      <th>4</th>\n",
              "      <td>182272</td>\n",
              "    </tr>\n",
              "    <tr>\n",
              "      <th>5</th>\n",
              "      <td>179618</td>\n",
              "    </tr>\n",
              "    <tr>\n",
              "      <th>6</th>\n",
              "      <td>175822</td>\n",
              "    </tr>\n",
              "    <tr>\n",
              "      <th>7</th>\n",
              "      <td>455702</td>\n",
              "    </tr>\n",
              "    <tr>\n",
              "      <th>8</th>\n",
              "      <td>408300</td>\n",
              "    </tr>\n",
              "    <tr>\n",
              "      <th>9</th>\n",
              "      <td>414673</td>\n",
              "    </tr>\n",
              "    <tr>\n",
              "      <th>10</th>\n",
              "      <td>436183</td>\n",
              "    </tr>\n",
              "    <tr>\n",
              "      <th>11</th>\n",
              "      <td>413283</td>\n",
              "    </tr>\n",
              "    <tr>\n",
              "      <th>12</th>\n",
              "      <td>497617</td>\n",
              "    </tr>\n",
              "    <tr>\n",
              "      <th rowspan=\"4\" valign=\"top\">2017</th>\n",
              "      <th>1</th>\n",
              "      <td>386848</td>\n",
              "    </tr>\n",
              "    <tr>\n",
              "      <th>2</th>\n",
              "      <td>401462</td>\n",
              "    </tr>\n",
              "    <tr>\n",
              "      <th>3</th>\n",
              "      <td>495487</td>\n",
              "    </tr>\n",
              "    <tr>\n",
              "      <th>4</th>\n",
              "      <td>338236</td>\n",
              "    </tr>\n",
              "  </tbody>\n",
              "</table>\n",
              "</div>"
            ],
            "text/plain": [
              "            visitors\n",
              "year month          \n",
              "2016 1        152924\n",
              "     2        159934\n",
              "     3        189292\n",
              "     4        182272\n",
              "     5        179618\n",
              "     6        175822\n",
              "     7        455702\n",
              "     8        408300\n",
              "     9        414673\n",
              "     10       436183\n",
              "     11       413283\n",
              "     12       497617\n",
              "2017 1        386848\n",
              "     2        401462\n",
              "     3        495487\n",
              "     4        338236"
            ]
          },
          "metadata": {
            "tags": []
          },
          "execution_count": 9
        }
      ]
    },
    {
      "cell_type": "code",
      "metadata": {
        "colab": {
          "base_uri": "https://localhost:8080/",
          "height": 296
        },
        "id": "s0IWNhJkuvVn",
        "outputId": "bcdedcbe-11f0-443c-f0dc-55fc82db21c1"
      },
      "source": [
        "train.groupby(['year','month'])[['visitors']].sum().plot()"
      ],
      "execution_count": 10,
      "outputs": [
        {
          "output_type": "execute_result",
          "data": {
            "text/plain": [
              "<matplotlib.axes._subplots.AxesSubplot at 0x7f14bba95710>"
            ]
          },
          "metadata": {
            "tags": []
          },
          "execution_count": 10
        },
        {
          "output_type": "display_data",
          "data": {
            "image/png": "[encoded data removed]",
            "text/plain": [
              "<Figure size 432x288 with 1 Axes>"
            ]
          },
          "metadata": {
            "tags": [],
            "needs_background": "light"
          }
        }
      ]
    },
    {
      "cell_type": "code",
      "metadata": {
        "colab": {
          "base_uri": "https://localhost:8080/",
          "height": 299
        },
        "id": "xyagPk3qu-b3",
        "outputId": "c170b40f-59e1-47ca-b650-608456173c62"
      },
      "source": [
        "train.groupby(['year','month', 'day'])[['visitors']].sum().plot()"
      ],
      "execution_count": 11,
      "outputs": [
        {
          "output_type": "execute_result",
          "data": {
            "text/plain": [
              "<matplotlib.axes._subplots.AxesSubplot at 0x7f14b9a526a0>"
            ]
          },
          "metadata": {
            "tags": []
          },
          "execution_count": 11
        },
        {
          "output_type": "display_data",
          "data": {
            "image/png": "[encoded data removed]",
            "text/plain": [
              "<Figure size 432x288 with 1 Axes>"
            ]
          },
          "metadata": {
            "tags": [],
            "needs_background": "light"
          }
        }
      ]
    },
    {
      "cell_type": "code",
      "metadata": {
        "colab": {
          "base_uri": "https://localhost:8080/",
          "height": 298
        },
        "id": "-_pDB5-Gn7vc",
        "outputId": "85a41c08-e147-4a44-9507-96e2248a26fd"
      },
      "source": [
        "sns.lineplot(x='visit_date', y='visitors', data=train)"
      ],
      "execution_count": 12,
      "outputs": [
        {
          "output_type": "execute_result",
          "data": {
            "text/plain": [
              "<matplotlib.axes._subplots.AxesSubplot at 0x7f14b9a99860>"
            ]
          },
          "metadata": {
            "tags": []
          },
          "execution_count": 12
        },
        {
          "output_type": "display_data",
          "data": {
            "image/png": "[encoded data removed]",
            "text/plain": [
              "<Figure size 432x288 with 1 Axes>"
            ]
          },
          "metadata": {
            "tags": [],
            "needs_background": "light"
          }
        }
      ]
    },
    {
      "cell_type": "code",
      "metadata": {
        "id": "7U1aX5NLn7ya",
        "colab": {
          "base_uri": "https://localhost:8080/",
          "height": 419
        },
        "outputId": "5d2399a5-a896-4d00-b273-03608bd8c762"
      },
      "source": [
        "air_store_info"
      ],
      "execution_count": 17,
      "outputs": [
        {
          "output_type": "execute_result",
          "data": {
            "text/html": [
              "<div>\n",
              "<style scoped>\n",
              "    .dataframe tbody tr th:only-of-type {\n",
              "        vertical-align: middle;\n",
              "    }\n",
              "\n",
              "    .dataframe tbody tr th {\n",
              "        vertical-align: top;\n",
              "    }\n",
              "\n",
              "    .dataframe thead th {\n",
              "        text-align: right;\n",
              "    }\n",
              "</style>\n",
              "<table border=\"1\" class=\"dataframe\">\n",
              "  <thead>\n",
              "    <tr style=\"text-align: right;\">\n",
              "      <th></th>\n",
              "      <th>air_store_id</th>\n",
              "      <th>air_genre_name</th>\n",
              "      <th>air_area_name</th>\n",
              "      <th>latitude</th>\n",
              "      <th>longitude</th>\n",
              "    </tr>\n",
              "  </thead>\n",
              "  <tbody>\n",
              "    <tr>\n",
              "      <th>0</th>\n",
              "      <td>air_0f0cdeee6c9bf3d7</td>\n",
              "      <td>Italian/French</td>\n",
              "      <td>Hyōgo-ken Kōbe-shi Kumoidōri</td>\n",
              "      <td>34.695126</td>\n",
              "      <td>135.197845</td>\n",
              "    </tr>\n",
              "    <tr>\n",
              "      <th>1</th>\n",
              "      <td>air_7cc17a324ae5c7dc</td>\n",
              "      <td>Italian/French</td>\n",
              "      <td>Hyōgo-ken Kōbe-shi Kumoidōri</td>\n",
              "      <td>34.695126</td>\n",
              "      <td>135.197845</td>\n",
              "    </tr>\n",
              "    <tr>\n",
              "      <th>2</th>\n",
              "      <td>air_fee8dcf4d619598e</td>\n",
              "      <td>Italian/French</td>\n",
              "      <td>Hyōgo-ken Kōbe-shi Kumoidōri</td>\n",
              "      <td>34.695126</td>\n",
              "      <td>135.197845</td>\n",
              "    </tr>\n",
              "    <tr>\n",
              "      <th>3</th>\n",
              "      <td>air_a17f0778617c76e2</td>\n",
              "      <td>Italian/French</td>\n",
              "      <td>Hyōgo-ken Kōbe-shi Kumoidōri</td>\n",
              "      <td>34.695126</td>\n",
              "      <td>135.197845</td>\n",
              "    </tr>\n",
              "    <tr>\n",
              "      <th>4</th>\n",
              "      <td>air_83db5aff8f50478e</td>\n",
              "      <td>Italian/French</td>\n",
              "      <td>Tōkyō-to Minato-ku Shibakōen</td>\n",
              "      <td>35.658070</td>\n",
              "      <td>139.751602</td>\n",
              "    </tr>\n",
              "    <tr>\n",
              "      <th>...</th>\n",
              "      <td>...</td>\n",
              "      <td>...</td>\n",
              "      <td>...</td>\n",
              "      <td>...</td>\n",
              "      <td>...</td>\n",
              "    </tr>\n",
              "    <tr>\n",
              "      <th>824</th>\n",
              "      <td>air_9bf595ef095572fb</td>\n",
              "      <td>International cuisine</td>\n",
              "      <td>Tōkyō-to Shibuya-ku Shibuya</td>\n",
              "      <td>35.661777</td>\n",
              "      <td>139.704056</td>\n",
              "    </tr>\n",
              "    <tr>\n",
              "      <th>825</th>\n",
              "      <td>air_764f71040a413d4d</td>\n",
              "      <td>Asian</td>\n",
              "      <td>Tōkyō-to Shibuya-ku Shibuya</td>\n",
              "      <td>35.661777</td>\n",
              "      <td>139.704056</td>\n",
              "    </tr>\n",
              "    <tr>\n",
              "      <th>826</th>\n",
              "      <td>air_10bbe8acd943d8f6</td>\n",
              "      <td>Asian</td>\n",
              "      <td>Tōkyō-to Shibuya-ku Shibuya</td>\n",
              "      <td>35.661777</td>\n",
              "      <td>139.704056</td>\n",
              "    </tr>\n",
              "    <tr>\n",
              "      <th>827</th>\n",
              "      <td>air_7514d90009613cd6</td>\n",
              "      <td>Karaoke/Party</td>\n",
              "      <td>Hokkaidō Sapporo-shi Minami 3 Jōnishi</td>\n",
              "      <td>43.055462</td>\n",
              "      <td>141.340958</td>\n",
              "    </tr>\n",
              "    <tr>\n",
              "      <th>828</th>\n",
              "      <td>air_c8fe396d6c46275d</td>\n",
              "      <td>Karaoke/Party</td>\n",
              "      <td>Hokkaidō Sapporo-shi Minami 3 Jōnishi</td>\n",
              "      <td>43.055462</td>\n",
              "      <td>141.340958</td>\n",
              "    </tr>\n",
              "  </tbody>\n",
              "</table>\n",
              "<p>829 rows × 5 columns</p>\n",
              "</div>"
            ],
            "text/plain": [
              "             air_store_id         air_genre_name  ...   latitude   longitude\n",
              "0    air_0f0cdeee6c9bf3d7         Italian/French  ...  34.695126  135.197845\n",
              "1    air_7cc17a324ae5c7dc         Italian/French  ...  34.695126  135.197845\n",
              "2    air_fee8dcf4d619598e         Italian/French  ...  34.695126  135.197845\n",
              "3    air_a17f0778617c76e2         Italian/French  ...  34.695126  135.197845\n",
              "4    air_83db5aff8f50478e         Italian/French  ...  35.658070  139.751602\n",
              "..                    ...                    ...  ...        ...         ...\n",
              "824  air_9bf595ef095572fb  International cuisine  ...  35.661777  139.704056\n",
              "825  air_764f71040a413d4d                  Asian  ...  35.661777  139.704056\n",
              "826  air_10bbe8acd943d8f6                  Asian  ...  35.661777  139.704056\n",
              "827  air_7514d90009613cd6          Karaoke/Party  ...  43.055462  141.340958\n",
              "828  air_c8fe396d6c46275d          Karaoke/Party  ...  43.055462  141.340958\n",
              "\n",
              "[829 rows x 5 columns]"
            ]
          },
          "metadata": {
            "tags": []
          },
          "execution_count": 17
        }
      ]
    },
    {
      "cell_type": "code",
      "metadata": {
        "colab": {
          "base_uri": "https://localhost:8080/",
          "height": 419
        },
        "id": "Lx7f642h0QdV",
        "outputId": "afae33bf-e3b8-4836-f4d3-01ddca19be22"
      },
      "source": [
        "train"
      ],
      "execution_count": 18,
      "outputs": [
        {
          "output_type": "execute_result",
          "data": {
            "text/html": [
              "<div>\n",
              "<style scoped>\n",
              "    .dataframe tbody tr th:only-of-type {\n",
              "        vertical-align: middle;\n",
              "    }\n",
              "\n",
              "    .dataframe tbody tr th {\n",
              "        vertical-align: top;\n",
              "    }\n",
              "\n",
              "    .dataframe thead th {\n",
              "        text-align: right;\n",
              "    }\n",
              "</style>\n",
              "<table border=\"1\" class=\"dataframe\">\n",
              "  <thead>\n",
              "    <tr style=\"text-align: right;\">\n",
              "      <th></th>\n",
              "      <th>air_store_id</th>\n",
              "      <th>visit_date</th>\n",
              "      <th>visitors</th>\n",
              "      <th>day_of_week</th>\n",
              "      <th>holiday_flg</th>\n",
              "      <th>year</th>\n",
              "      <th>month</th>\n",
              "      <th>day</th>\n",
              "    </tr>\n",
              "  </thead>\n",
              "  <tbody>\n",
              "    <tr>\n",
              "      <th>0</th>\n",
              "      <td>air_ba937bf13d40fb24</td>\n",
              "      <td>2016-01-13</td>\n",
              "      <td>25</td>\n",
              "      <td>Wednesday</td>\n",
              "      <td>False</td>\n",
              "      <td>2016</td>\n",
              "      <td>1</td>\n",
              "      <td>13</td>\n",
              "    </tr>\n",
              "    <tr>\n",
              "      <th>1</th>\n",
              "      <td>air_ba937bf13d40fb24</td>\n",
              "      <td>2016-01-14</td>\n",
              "      <td>32</td>\n",
              "      <td>Thursday</td>\n",
              "      <td>False</td>\n",
              "      <td>2016</td>\n",
              "      <td>1</td>\n",
              "      <td>14</td>\n",
              "    </tr>\n",
              "    <tr>\n",
              "      <th>2</th>\n",
              "      <td>air_ba937bf13d40fb24</td>\n",
              "      <td>2016-01-15</td>\n",
              "      <td>29</td>\n",
              "      <td>Friday</td>\n",
              "      <td>False</td>\n",
              "      <td>2016</td>\n",
              "      <td>1</td>\n",
              "      <td>15</td>\n",
              "    </tr>\n",
              "    <tr>\n",
              "      <th>3</th>\n",
              "      <td>air_ba937bf13d40fb24</td>\n",
              "      <td>2016-01-16</td>\n",
              "      <td>22</td>\n",
              "      <td>Saturday</td>\n",
              "      <td>False</td>\n",
              "      <td>2016</td>\n",
              "      <td>1</td>\n",
              "      <td>16</td>\n",
              "    </tr>\n",
              "    <tr>\n",
              "      <th>4</th>\n",
              "      <td>air_ba937bf13d40fb24</td>\n",
              "      <td>2016-01-18</td>\n",
              "      <td>6</td>\n",
              "      <td>Monday</td>\n",
              "      <td>False</td>\n",
              "      <td>2016</td>\n",
              "      <td>1</td>\n",
              "      <td>18</td>\n",
              "    </tr>\n",
              "    <tr>\n",
              "      <th>...</th>\n",
              "      <td>...</td>\n",
              "      <td>...</td>\n",
              "      <td>...</td>\n",
              "      <td>...</td>\n",
              "      <td>...</td>\n",
              "      <td>...</td>\n",
              "      <td>...</td>\n",
              "      <td>...</td>\n",
              "    </tr>\n",
              "    <tr>\n",
              "      <th>252103</th>\n",
              "      <td>air_24e8414b9b07decb</td>\n",
              "      <td>2017-04-18</td>\n",
              "      <td>6</td>\n",
              "      <td>Tuesday</td>\n",
              "      <td>False</td>\n",
              "      <td>2017</td>\n",
              "      <td>4</td>\n",
              "      <td>18</td>\n",
              "    </tr>\n",
              "    <tr>\n",
              "      <th>252104</th>\n",
              "      <td>air_24e8414b9b07decb</td>\n",
              "      <td>2017-04-19</td>\n",
              "      <td>6</td>\n",
              "      <td>Wednesday</td>\n",
              "      <td>False</td>\n",
              "      <td>2017</td>\n",
              "      <td>4</td>\n",
              "      <td>19</td>\n",
              "    </tr>\n",
              "    <tr>\n",
              "      <th>252105</th>\n",
              "      <td>air_24e8414b9b07decb</td>\n",
              "      <td>2017-04-20</td>\n",
              "      <td>7</td>\n",
              "      <td>Thursday</td>\n",
              "      <td>False</td>\n",
              "      <td>2017</td>\n",
              "      <td>4</td>\n",
              "      <td>20</td>\n",
              "    </tr>\n",
              "    <tr>\n",
              "      <th>252106</th>\n",
              "      <td>air_24e8414b9b07decb</td>\n",
              "      <td>2017-04-21</td>\n",
              "      <td>8</td>\n",
              "      <td>Friday</td>\n",
              "      <td>False</td>\n",
              "      <td>2017</td>\n",
              "      <td>4</td>\n",
              "      <td>21</td>\n",
              "    </tr>\n",
              "    <tr>\n",
              "      <th>252107</th>\n",
              "      <td>air_24e8414b9b07decb</td>\n",
              "      <td>2017-04-22</td>\n",
              "      <td>5</td>\n",
              "      <td>Saturday</td>\n",
              "      <td>False</td>\n",
              "      <td>2017</td>\n",
              "      <td>4</td>\n",
              "      <td>22</td>\n",
              "    </tr>\n",
              "  </tbody>\n",
              "</table>\n",
              "<p>252108 rows × 8 columns</p>\n",
              "</div>"
            ],
            "text/plain": [
              "                air_store_id visit_date  visitors  ...  year  month  day\n",
              "0       air_ba937bf13d40fb24 2016-01-13        25  ...  2016      1   13\n",
              "1       air_ba937bf13d40fb24 2016-01-14        32  ...  2016      1   14\n",
              "2       air_ba937bf13d40fb24 2016-01-15        29  ...  2016      1   15\n",
              "3       air_ba937bf13d40fb24 2016-01-16        22  ...  2016      1   16\n",
              "4       air_ba937bf13d40fb24 2016-01-18         6  ...  2016      1   18\n",
              "...                      ...        ...       ...  ...   ...    ...  ...\n",
              "252103  air_24e8414b9b07decb 2017-04-18         6  ...  2017      4   18\n",
              "252104  air_24e8414b9b07decb 2017-04-19         6  ...  2017      4   19\n",
              "252105  air_24e8414b9b07decb 2017-04-20         7  ...  2017      4   20\n",
              "252106  air_24e8414b9b07decb 2017-04-21         8  ...  2017      4   21\n",
              "252107  air_24e8414b9b07decb 2017-04-22         5  ...  2017      4   22\n",
              "\n",
              "[252108 rows x 8 columns]"
            ]
          },
          "metadata": {
            "tags": []
          },
          "execution_count": 18
        }
      ]
    },
    {
      "cell_type": "code",
      "metadata": {
        "id": "pLjnu-WH1hsx"
      },
      "source": [
        "air_store_info[['Prefecture', 'Municipality', 'District']] = air_store_info.air_area_name.str.split(\" \", n=2, expand=True)"
      ],
      "execution_count": 19,
      "outputs": []
    },
    {
      "cell_type": "code",
      "metadata": {
        "id": "J4tHCXeX2FFW"
      },
      "source": [
        "air_store_info.drop(columns = \"air_area_name\", inplace = True)"
      ],
      "execution_count": 20,
      "outputs": []
    },
    {
      "cell_type": "code",
      "metadata": {
        "colab": {
          "base_uri": "https://localhost:8080/",
          "height": 419
        },
        "id": "3EK90MhT3SHs",
        "outputId": "ba7a10f2-1bfe-49fa-8861-343aaf57f9e9"
      },
      "source": [
        "air_store_info"
      ],
      "execution_count": 21,
      "outputs": [
        {
          "output_type": "execute_result",
          "data": {
            "text/html": [
              "<div>\n",
              "<style scoped>\n",
              "    .dataframe tbody tr th:only-of-type {\n",
              "        vertical-align: middle;\n",
              "    }\n",
              "\n",
              "    .dataframe tbody tr th {\n",
              "        vertical-align: top;\n",
              "    }\n",
              "\n",
              "    .dataframe thead th {\n",
              "        text-align: right;\n",
              "    }\n",
              "</style>\n",
              "<table border=\"1\" class=\"dataframe\">\n",
              "  <thead>\n",
              "    <tr style=\"text-align: right;\">\n",
              "      <th></th>\n",
              "      <th>air_store_id</th>\n",
              "      <th>air_genre_name</th>\n",
              "      <th>latitude</th>\n",
              "      <th>longitude</th>\n",
              "      <th>Prefecture</th>\n",
              "      <th>Municipality</th>\n",
              "      <th>District</th>\n",
              "    </tr>\n",
              "  </thead>\n",
              "  <tbody>\n",
              "    <tr>\n",
              "      <th>0</th>\n",
              "      <td>air_0f0cdeee6c9bf3d7</td>\n",
              "      <td>Italian/French</td>\n",
              "      <td>34.695126</td>\n",
              "      <td>135.197845</td>\n",
              "      <td>Hyōgo-ken</td>\n",
              "      <td>Kōbe-shi</td>\n",
              "      <td>Kumoidōri</td>\n",
              "    </tr>\n",
              "    <tr>\n",
              "      <th>1</th>\n",
              "      <td>air_7cc17a324ae5c7dc</td>\n",
              "      <td>Italian/French</td>\n",
              "      <td>34.695126</td>\n",
              "      <td>135.197845</td>\n",
              "      <td>Hyōgo-ken</td>\n",
              "      <td>Kōbe-shi</td>\n",
              "      <td>Kumoidōri</td>\n",
              "    </tr>\n",
              "    <tr>\n",
              "      <th>2</th>\n",
              "      <td>air_fee8dcf4d619598e</td>\n",
              "      <td>Italian/French</td>\n",
              "      <td>34.695126</td>\n",
              "      <td>135.197845</td>\n",
              "      <td>Hyōgo-ken</td>\n",
              "      <td>Kōbe-shi</td>\n",
              "      <td>Kumoidōri</td>\n",
              "    </tr>\n",
              "    <tr>\n",
              "      <th>3</th>\n",
              "      <td>air_a17f0778617c76e2</td>\n",
              "      <td>Italian/French</td>\n",
              "      <td>34.695126</td>\n",
              "      <td>135.197845</td>\n",
              "      <td>Hyōgo-ken</td>\n",
              "      <td>Kōbe-shi</td>\n",
              "      <td>Kumoidōri</td>\n",
              "    </tr>\n",
              "    <tr>\n",
              "      <th>4</th>\n",
              "      <td>air_83db5aff8f50478e</td>\n",
              "      <td>Italian/French</td>\n",
              "      <td>35.658070</td>\n",
              "      <td>139.751602</td>\n",
              "      <td>Tōkyō-to</td>\n",
              "      <td>Minato-ku</td>\n",
              "      <td>Shibakōen</td>\n",
              "    </tr>\n",
              "    <tr>\n",
              "      <th>...</th>\n",
              "      <td>...</td>\n",
              "      <td>...</td>\n",
              "      <td>...</td>\n",
              "      <td>...</td>\n",
              "      <td>...</td>\n",
              "      <td>...</td>\n",
              "      <td>...</td>\n",
              "    </tr>\n",
              "    <tr>\n",
              "      <th>824</th>\n",
              "      <td>air_9bf595ef095572fb</td>\n",
              "      <td>International cuisine</td>\n",
              "      <td>35.661777</td>\n",
              "      <td>139.704056</td>\n",
              "      <td>Tōkyō-to</td>\n",
              "      <td>Shibuya-ku</td>\n",
              "      <td>Shibuya</td>\n",
              "    </tr>\n",
              "    <tr>\n",
              "      <th>825</th>\n",
              "      <td>air_764f71040a413d4d</td>\n",
              "      <td>Asian</td>\n",
              "      <td>35.661777</td>\n",
              "      <td>139.704056</td>\n",
              "      <td>Tōkyō-to</td>\n",
              "      <td>Shibuya-ku</td>\n",
              "      <td>Shibuya</td>\n",
              "    </tr>\n",
              "    <tr>\n",
              "      <th>826</th>\n",
              "      <td>air_10bbe8acd943d8f6</td>\n",
              "      <td>Asian</td>\n",
              "      <td>35.661777</td>\n",
              "      <td>139.704056</td>\n",
              "      <td>Tōkyō-to</td>\n",
              "      <td>Shibuya-ku</td>\n",
              "      <td>Shibuya</td>\n",
              "    </tr>\n",
              "    <tr>\n",
              "      <th>827</th>\n",
              "      <td>air_7514d90009613cd6</td>\n",
              "      <td>Karaoke/Party</td>\n",
              "      <td>43.055462</td>\n",
              "      <td>141.340958</td>\n",
              "      <td>Hokkaidō</td>\n",
              "      <td>Sapporo-shi</td>\n",
              "      <td>Minami 3 Jōnishi</td>\n",
              "    </tr>\n",
              "    <tr>\n",
              "      <th>828</th>\n",
              "      <td>air_c8fe396d6c46275d</td>\n",
              "      <td>Karaoke/Party</td>\n",
              "      <td>43.055462</td>\n",
              "      <td>141.340958</td>\n",
              "      <td>Hokkaidō</td>\n",
              "      <td>Sapporo-shi</td>\n",
              "      <td>Minami 3 Jōnishi</td>\n",
              "    </tr>\n",
              "  </tbody>\n",
              "</table>\n",
              "<p>829 rows × 7 columns</p>\n",
              "</div>"
            ],
            "text/plain": [
              "             air_store_id         air_genre_name  ...  Municipality          District\n",
              "0    air_0f0cdeee6c9bf3d7         Italian/French  ...      Kōbe-shi         Kumoidōri\n",
              "1    air_7cc17a324ae5c7dc         Italian/French  ...      Kōbe-shi         Kumoidōri\n",
              "2    air_fee8dcf4d619598e         Italian/French  ...      Kōbe-shi         Kumoidōri\n",
              "3    air_a17f0778617c76e2         Italian/French  ...      Kōbe-shi         Kumoidōri\n",
              "4    air_83db5aff8f50478e         Italian/French  ...     Minato-ku         Shibakōen\n",
              "..                    ...                    ...  ...           ...               ...\n",
              "824  air_9bf595ef095572fb  International cuisine  ...    Shibuya-ku           Shibuya\n",
              "825  air_764f71040a413d4d                  Asian  ...    Shibuya-ku           Shibuya\n",
              "826  air_10bbe8acd943d8f6                  Asian  ...    Shibuya-ku           Shibuya\n",
              "827  air_7514d90009613cd6          Karaoke/Party  ...   Sapporo-shi  Minami 3 Jōnishi\n",
              "828  air_c8fe396d6c46275d          Karaoke/Party  ...   Sapporo-shi  Minami 3 Jōnishi\n",
              "\n",
              "[829 rows x 7 columns]"
            ]
          },
          "metadata": {
            "tags": []
          },
          "execution_count": 21
        }
      ]
    },
    {
      "cell_type": "code",
      "metadata": {
        "id": "nSGO7nKD3UF8"
      },
      "source": [
        "final_train =  train.merge(air_store_info, how = \"left\", on=\"air_store_id\")"
      ],
      "execution_count": 22,
      "outputs": []
    },
    {
      "cell_type": "code",
      "metadata": {
        "colab": {
          "base_uri": "https://localhost:8080/"
        },
        "id": "TUBb6-ZH8Bji",
        "outputId": "2d5e3335-0233-44af-f0a0-948724689eb1"
      },
      "source": [
        "print(date_info)"
      ],
      "execution_count": 23,
      "outputs": [
        {
          "output_type": "stream",
          "text": [
            "    calendar_date day_of_week  holiday_flg\n",
            "0      2016-01-01      Friday         True\n",
            "1      2016-01-02    Saturday         True\n",
            "2      2016-01-03      Sunday         True\n",
            "3      2016-01-04      Monday        False\n",
            "4      2016-01-05     Tuesday        False\n",
            "..            ...         ...          ...\n",
            "512    2017-05-27    Saturday        False\n",
            "513    2017-05-28      Sunday        False\n",
            "514    2017-05-29      Monday        False\n",
            "515    2017-05-30     Tuesday        False\n",
            "516    2017-05-31   Wednesday        False\n",
            "\n",
            "[517 rows x 3 columns]\n"
          ],
          "name": "stdout"
        }
      ]
    },
    {
      "cell_type": "code",
      "metadata": {
        "colab": {
          "base_uri": "https://localhost:8080/",
          "height": 439
        },
        "id": "Oc9iwOAz3tko",
        "outputId": "d584a2ea-7492-44d0-eaf6-76376ce6bd1b"
      },
      "source": [
        "final_train"
      ],
      "execution_count": 24,
      "outputs": [
        {
          "output_type": "execute_result",
          "data": {
            "text/html": [
              "<div>\n",
              "<style scoped>\n",
              "    .dataframe tbody tr th:only-of-type {\n",
              "        vertical-align: middle;\n",
              "    }\n",
              "\n",
              "    .dataframe tbody tr th {\n",
              "        vertical-align: top;\n",
              "    }\n",
              "\n",
              "    .dataframe thead th {\n",
              "        text-align: right;\n",
              "    }\n",
              "</style>\n",
              "<table border=\"1\" class=\"dataframe\">\n",
              "  <thead>\n",
              "    <tr style=\"text-align: right;\">\n",
              "      <th></th>\n",
              "      <th>air_store_id</th>\n",
              "      <th>visit_date</th>\n",
              "      <th>visitors</th>\n",
              "      <th>day_of_week</th>\n",
              "      <th>holiday_flg</th>\n",
              "      <th>year</th>\n",
              "      <th>month</th>\n",
              "      <th>day</th>\n",
              "      <th>air_genre_name</th>\n",
              "      <th>latitude</th>\n",
              "      <th>longitude</th>\n",
              "      <th>Prefecture</th>\n",
              "      <th>Municipality</th>\n",
              "      <th>District</th>\n",
              "    </tr>\n",
              "  </thead>\n",
              "  <tbody>\n",
              "    <tr>\n",
              "      <th>0</th>\n",
              "      <td>air_ba937bf13d40fb24</td>\n",
              "      <td>2016-01-13</td>\n",
              "      <td>25</td>\n",
              "      <td>Wednesday</td>\n",
              "      <td>False</td>\n",
              "      <td>2016</td>\n",
              "      <td>1</td>\n",
              "      <td>13</td>\n",
              "      <td>Dining bar</td>\n",
              "      <td>35.658070</td>\n",
              "      <td>139.751602</td>\n",
              "      <td>Tōkyō-to</td>\n",
              "      <td>Minato-ku</td>\n",
              "      <td>Shibakōen</td>\n",
              "    </tr>\n",
              "    <tr>\n",
              "      <th>1</th>\n",
              "      <td>air_ba937bf13d40fb24</td>\n",
              "      <td>2016-01-14</td>\n",
              "      <td>32</td>\n",
              "      <td>Thursday</td>\n",
              "      <td>False</td>\n",
              "      <td>2016</td>\n",
              "      <td>1</td>\n",
              "      <td>14</td>\n",
              "      <td>Dining bar</td>\n",
              "      <td>35.658070</td>\n",
              "      <td>139.751602</td>\n",
              "      <td>Tōkyō-to</td>\n",
              "      <td>Minato-ku</td>\n",
              "      <td>Shibakōen</td>\n",
              "    </tr>\n",
              "    <tr>\n",
              "      <th>2</th>\n",
              "      <td>air_ba937bf13d40fb24</td>\n",
              "      <td>2016-01-15</td>\n",
              "      <td>29</td>\n",
              "      <td>Friday</td>\n",
              "      <td>False</td>\n",
              "      <td>2016</td>\n",
              "      <td>1</td>\n",
              "      <td>15</td>\n",
              "      <td>Dining bar</td>\n",
              "      <td>35.658070</td>\n",
              "      <td>139.751602</td>\n",
              "      <td>Tōkyō-to</td>\n",
              "      <td>Minato-ku</td>\n",
              "      <td>Shibakōen</td>\n",
              "    </tr>\n",
              "    <tr>\n",
              "      <th>3</th>\n",
              "      <td>air_ba937bf13d40fb24</td>\n",
              "      <td>2016-01-16</td>\n",
              "      <td>22</td>\n",
              "      <td>Saturday</td>\n",
              "      <td>False</td>\n",
              "      <td>2016</td>\n",
              "      <td>1</td>\n",
              "      <td>16</td>\n",
              "      <td>Dining bar</td>\n",
              "      <td>35.658070</td>\n",
              "      <td>139.751602</td>\n",
              "      <td>Tōkyō-to</td>\n",
              "      <td>Minato-ku</td>\n",
              "      <td>Shibakōen</td>\n",
              "    </tr>\n",
              "    <tr>\n",
              "      <th>4</th>\n",
              "      <td>air_ba937bf13d40fb24</td>\n",
              "      <td>2016-01-18</td>\n",
              "      <td>6</td>\n",
              "      <td>Monday</td>\n",
              "      <td>False</td>\n",
              "      <td>2016</td>\n",
              "      <td>1</td>\n",
              "      <td>18</td>\n",
              "      <td>Dining bar</td>\n",
              "      <td>35.658070</td>\n",
              "      <td>139.751602</td>\n",
              "      <td>Tōkyō-to</td>\n",
              "      <td>Minato-ku</td>\n",
              "      <td>Shibakōen</td>\n",
              "    </tr>\n",
              "    <tr>\n",
              "      <th>...</th>\n",
              "      <td>...</td>\n",
              "      <td>...</td>\n",
              "      <td>...</td>\n",
              "      <td>...</td>\n",
              "      <td>...</td>\n",
              "      <td>...</td>\n",
              "      <td>...</td>\n",
              "      <td>...</td>\n",
              "      <td>...</td>\n",
              "      <td>...</td>\n",
              "      <td>...</td>\n",
              "      <td>...</td>\n",
              "      <td>...</td>\n",
              "      <td>...</td>\n",
              "    </tr>\n",
              "    <tr>\n",
              "      <th>252103</th>\n",
              "      <td>air_24e8414b9b07decb</td>\n",
              "      <td>2017-04-18</td>\n",
              "      <td>6</td>\n",
              "      <td>Tuesday</td>\n",
              "      <td>False</td>\n",
              "      <td>2017</td>\n",
              "      <td>4</td>\n",
              "      <td>18</td>\n",
              "      <td>Other</td>\n",
              "      <td>35.653217</td>\n",
              "      <td>139.711029</td>\n",
              "      <td>Tōkyō-to</td>\n",
              "      <td>Shibuya-ku</td>\n",
              "      <td>Higashi</td>\n",
              "    </tr>\n",
              "    <tr>\n",
              "      <th>252104</th>\n",
              "      <td>air_24e8414b9b07decb</td>\n",
              "      <td>2017-04-19</td>\n",
              "      <td>6</td>\n",
              "      <td>Wednesday</td>\n",
              "      <td>False</td>\n",
              "      <td>2017</td>\n",
              "      <td>4</td>\n",
              "      <td>19</td>\n",
              "      <td>Other</td>\n",
              "      <td>35.653217</td>\n",
              "      <td>139.711029</td>\n",
              "      <td>Tōkyō-to</td>\n",
              "      <td>Shibuya-ku</td>\n",
              "      <td>Higashi</td>\n",
              "    </tr>\n",
              "    <tr>\n",
              "      <th>252105</th>\n",
              "      <td>air_24e8414b9b07decb</td>\n",
              "      <td>2017-04-20</td>\n",
              "      <td>7</td>\n",
              "      <td>Thursday</td>\n",
              "      <td>False</td>\n",
              "      <td>2017</td>\n",
              "      <td>4</td>\n",
              "      <td>20</td>\n",
              "      <td>Other</td>\n",
              "      <td>35.653217</td>\n",
              "      <td>139.711029</td>\n",
              "      <td>Tōkyō-to</td>\n",
              "      <td>Shibuya-ku</td>\n",
              "      <td>Higashi</td>\n",
              "    </tr>\n",
              "    <tr>\n",
              "      <th>252106</th>\n",
              "      <td>air_24e8414b9b07decb</td>\n",
              "      <td>2017-04-21</td>\n",
              "      <td>8</td>\n",
              "      <td>Friday</td>\n",
              "      <td>False</td>\n",
              "      <td>2017</td>\n",
              "      <td>4</td>\n",
              "      <td>21</td>\n",
              "      <td>Other</td>\n",
              "      <td>35.653217</td>\n",
              "      <td>139.711029</td>\n",
              "      <td>Tōkyō-to</td>\n",
              "      <td>Shibuya-ku</td>\n",
              "      <td>Higashi</td>\n",
              "    </tr>\n",
              "    <tr>\n",
              "      <th>252107</th>\n",
              "      <td>air_24e8414b9b07decb</td>\n",
              "      <td>2017-04-22</td>\n",
              "      <td>5</td>\n",
              "      <td>Saturday</td>\n",
              "      <td>False</td>\n",
              "      <td>2017</td>\n",
              "      <td>4</td>\n",
              "      <td>22</td>\n",
              "      <td>Other</td>\n",
              "      <td>35.653217</td>\n",
              "      <td>139.711029</td>\n",
              "      <td>Tōkyō-to</td>\n",
              "      <td>Shibuya-ku</td>\n",
              "      <td>Higashi</td>\n",
              "    </tr>\n",
              "  </tbody>\n",
              "</table>\n",
              "<p>252108 rows × 14 columns</p>\n",
              "</div>"
            ],
            "text/plain": [
              "                air_store_id visit_date  ...  Municipality   District\n",
              "0       air_ba937bf13d40fb24 2016-01-13  ...     Minato-ku  Shibakōen\n",
              "1       air_ba937bf13d40fb24 2016-01-14  ...     Minato-ku  Shibakōen\n",
              "2       air_ba937bf13d40fb24 2016-01-15  ...     Minato-ku  Shibakōen\n",
              "3       air_ba937bf13d40fb24 2016-01-16  ...     Minato-ku  Shibakōen\n",
              "4       air_ba937bf13d40fb24 2016-01-18  ...     Minato-ku  Shibakōen\n",
              "...                      ...        ...  ...           ...        ...\n",
              "252103  air_24e8414b9b07decb 2017-04-18  ...    Shibuya-ku    Higashi\n",
              "252104  air_24e8414b9b07decb 2017-04-19  ...    Shibuya-ku    Higashi\n",
              "252105  air_24e8414b9b07decb 2017-04-20  ...    Shibuya-ku    Higashi\n",
              "252106  air_24e8414b9b07decb 2017-04-21  ...    Shibuya-ku    Higashi\n",
              "252107  air_24e8414b9b07decb 2017-04-22  ...    Shibuya-ku    Higashi\n",
              "\n",
              "[252108 rows x 14 columns]"
            ]
          },
          "metadata": {
            "tags": []
          },
          "execution_count": 24
        }
      ]
    },
    {
      "cell_type": "code",
      "metadata": {
        "colab": {
          "base_uri": "https://localhost:8080/",
          "height": 356
        },
        "id": "HtfMwXN54_hA",
        "outputId": "f6fe0a82-9e6e-47ea-f077-4c8bea730405"
      },
      "source": [
        "sns.lineplot(x = 'visit_date', y = 'visitors', hue = 'Prefecture',data = final_train.groupby(['visit_date', 'Prefecture'])[['visitors']].sum())"
      ],
      "execution_count": 25,
      "outputs": [
        {
          "output_type": "execute_result",
          "data": {
            "text/plain": [
              "<matplotlib.axes._subplots.AxesSubplot at 0x7f14a26d21d0>"
            ]
          },
          "metadata": {
            "tags": []
          },
          "execution_count": 25
        },
        {
          "output_type": "display_data",
          "data": {
            "image/png": "[encoded data removed]",
            "text/plain": [
              "<Figure size 720x360 with 1 Axes>"
            ]
          },
          "metadata": {
            "tags": []
          }
        }
      ]
    },
    {
      "cell_type": "code",
      "metadata": {
        "colab": {
          "base_uri": "https://localhost:8080/",
          "height": 356
        },
        "id": "HM-RJvRl6sch",
        "outputId": "cb83ad49-3d37-4035-b317-b376bf46a7c1"
      },
      "source": [
        "sns.lineplot(x = 'day_of_week', y = 'visitors', hue = 'Prefecture',data = final_train.groupby(['day_of_week', 'Prefecture'])[['visitors']].sum())"
      ],
      "execution_count": 26,
      "outputs": [
        {
          "output_type": "execute_result",
          "data": {
            "text/plain": [
              "<matplotlib.axes._subplots.AxesSubplot at 0x7f14a2784978>"
            ]
          },
          "metadata": {
            "tags": []
          },
          "execution_count": 26
        },
        {
          "output_type": "display_data",
          "data": {
            "image/png": "[encoded data removed]",
            "text/plain": [
              "<Figure size 720x360 with 1 Axes>"
            ]
          },
          "metadata": {
            "tags": []
          }
        }
      ]
    },
    {
      "cell_type": "code",
      "metadata": {
        "colab": {
          "base_uri": "https://localhost:8080/",
          "height": 360
        },
        "id": "fDxRpet554_9",
        "outputId": "e0784362-09fa-4a9a-b757-a01623e97508"
      },
      "source": [
        "a = final_train.query(\"year == 2016\")\r\n",
        "sns.lineplot(x = 'day_of_week', y = 'visitors', hue = 'Prefecture',data = a.groupby(['day_of_week', 'Prefecture'])[['visitors']].sum())"
      ],
      "execution_count": 27,
      "outputs": [
        {
          "output_type": "execute_result",
          "data": {
            "text/plain": [
              "<matplotlib.axes._subplots.AxesSubplot at 0x7f14a264a710>"
            ]
          },
          "metadata": {
            "tags": []
          },
          "execution_count": 27
        },
        {
          "output_type": "display_data",
          "data": {
            "image/png": "[encoded data removed]",
            "text/plain": [
              "<Figure size 720x360 with 1 Axes>"
            ]
          },
          "metadata": {
            "tags": []
          }
        }
      ]
    },
    {
      "cell_type": "code",
      "metadata": {
        "colab": {
          "base_uri": "https://localhost:8080/",
          "height": 356
        },
        "id": "87IqMSCk48F9",
        "outputId": "5d34d8c6-c8ab-454a-8c92-027a3a6b9afa"
      },
      "source": [
        "a = final_train.query(\"year == 2016\")\r\n",
        "sns.lineplot(x = 'month', y = 'visitors', hue = 'Prefecture',data = a.groupby(['month', 'Prefecture'])[['visitors']].sum())"
      ],
      "execution_count": 28,
      "outputs": [
        {
          "output_type": "execute_result",
          "data": {
            "text/plain": [
              "<matplotlib.axes._subplots.AxesSubplot at 0x7f14a0c8bb70>"
            ]
          },
          "metadata": {
            "tags": []
          },
          "execution_count": 28
        },
        {
          "output_type": "display_data",
          "data": {
            "image/png": "[encoded data removed]",
            "text/plain": [
              "<Figure size 720x360 with 1 Axes>"
            ]
          },
          "metadata": {
            "tags": []
          }
        }
      ]
    },
    {
      "cell_type": "code",
      "metadata": {
        "colab": {
          "base_uri": "https://localhost:8080/",
          "height": 439
        },
        "id": "bPIFNqcyFQp0",
        "outputId": "62a0b355-9af9-4616-c733-16fc4fda3b14"
      },
      "source": [
        "final_train"
      ],
      "execution_count": 29,
      "outputs": [
        {
          "output_type": "execute_result",
          "data": {
            "text/html": [
              "<div>\n",
              "<style scoped>\n",
              "    .dataframe tbody tr th:only-of-type {\n",
              "        vertical-align: middle;\n",
              "    }\n",
              "\n",
              "    .dataframe tbody tr th {\n",
              "        vertical-align: top;\n",
              "    }\n",
              "\n",
              "    .dataframe thead th {\n",
              "        text-align: right;\n",
              "    }\n",
              "</style>\n",
              "<table border=\"1\" class=\"dataframe\">\n",
              "  <thead>\n",
              "    <tr style=\"text-align: right;\">\n",
              "      <th></th>\n",
              "      <th>air_store_id</th>\n",
              "      <th>visit_date</th>\n",
              "      <th>visitors</th>\n",
              "      <th>day_of_week</th>\n",
              "      <th>holiday_flg</th>\n",
              "      <th>year</th>\n",
              "      <th>month</th>\n",
              "      <th>day</th>\n",
              "      <th>air_genre_name</th>\n",
              "      <th>latitude</th>\n",
              "      <th>longitude</th>\n",
              "      <th>Prefecture</th>\n",
              "      <th>Municipality</th>\n",
              "      <th>District</th>\n",
              "    </tr>\n",
              "  </thead>\n",
              "  <tbody>\n",
              "    <tr>\n",
              "      <th>0</th>\n",
              "      <td>air_ba937bf13d40fb24</td>\n",
              "      <td>2016-01-13</td>\n",
              "      <td>25</td>\n",
              "      <td>Wednesday</td>\n",
              "      <td>False</td>\n",
              "      <td>2016</td>\n",
              "      <td>1</td>\n",
              "      <td>13</td>\n",
              "      <td>Dining bar</td>\n",
              "      <td>35.658070</td>\n",
              "      <td>139.751602</td>\n",
              "      <td>Tōkyō-to</td>\n",
              "      <td>Minato-ku</td>\n",
              "      <td>Shibakōen</td>\n",
              "    </tr>\n",
              "    <tr>\n",
              "      <th>1</th>\n",
              "      <td>air_ba937bf13d40fb24</td>\n",
              "      <td>2016-01-14</td>\n",
              "      <td>32</td>\n",
              "      <td>Thursday</td>\n",
              "      <td>False</td>\n",
              "      <td>2016</td>\n",
              "      <td>1</td>\n",
              "      <td>14</td>\n",
              "      <td>Dining bar</td>\n",
              "      <td>35.658070</td>\n",
              "      <td>139.751602</td>\n",
              "      <td>Tōkyō-to</td>\n",
              "      <td>Minato-ku</td>\n",
              "      <td>Shibakōen</td>\n",
              "    </tr>\n",
              "    <tr>\n",
              "      <th>2</th>\n",
              "      <td>air_ba937bf13d40fb24</td>\n",
              "      <td>2016-01-15</td>\n",
              "      <td>29</td>\n",
              "      <td>Friday</td>\n",
              "      <td>False</td>\n",
              "      <td>2016</td>\n",
              "      <td>1</td>\n",
              "      <td>15</td>\n",
              "      <td>Dining bar</td>\n",
              "      <td>35.658070</td>\n",
              "      <td>139.751602</td>\n",
              "      <td>Tōkyō-to</td>\n",
              "      <td>Minato-ku</td>\n",
              "      <td>Shibakōen</td>\n",
              "    </tr>\n",
              "    <tr>\n",
              "      <th>3</th>\n",
              "      <td>air_ba937bf13d40fb24</td>\n",
              "      <td>2016-01-16</td>\n",
              "      <td>22</td>\n",
              "      <td>Saturday</td>\n",
              "      <td>False</td>\n",
              "      <td>2016</td>\n",
              "      <td>1</td>\n",
              "      <td>16</td>\n",
              "      <td>Dining bar</td>\n",
              "      <td>35.658070</td>\n",
              "      <td>139.751602</td>\n",
              "      <td>Tōkyō-to</td>\n",
              "      <td>Minato-ku</td>\n",
              "      <td>Shibakōen</td>\n",
              "    </tr>\n",
              "    <tr>\n",
              "      <th>4</th>\n",
              "      <td>air_ba937bf13d40fb24</td>\n",
              "      <td>2016-01-18</td>\n",
              "      <td>6</td>\n",
              "      <td>Monday</td>\n",
              "      <td>False</td>\n",
              "      <td>2016</td>\n",
              "      <td>1</td>\n",
              "      <td>18</td>\n",
              "      <td>Dining bar</td>\n",
              "      <td>35.658070</td>\n",
              "      <td>139.751602</td>\n",
              "      <td>Tōkyō-to</td>\n",
              "      <td>Minato-ku</td>\n",
              "      <td>Shibakōen</td>\n",
              "    </tr>\n",
              "    <tr>\n",
              "      <th>...</th>\n",
              "      <td>...</td>\n",
              "      <td>...</td>\n",
              "      <td>...</td>\n",
              "      <td>...</td>\n",
              "      <td>...</td>\n",
              "      <td>...</td>\n",
              "      <td>...</td>\n",
              "      <td>...</td>\n",
              "      <td>...</td>\n",
              "      <td>...</td>\n",
              "      <td>...</td>\n",
              "      <td>...</td>\n",
              "      <td>...</td>\n",
              "      <td>...</td>\n",
              "    </tr>\n",
              "    <tr>\n",
              "      <th>252103</th>\n",
              "      <td>air_24e8414b9b07decb</td>\n",
              "      <td>2017-04-18</td>\n",
              "      <td>6</td>\n",
              "      <td>Tuesday</td>\n",
              "      <td>False</td>\n",
              "      <td>2017</td>\n",
              "      <td>4</td>\n",
              "      <td>18</td>\n",
              "      <td>Other</td>\n",
              "      <td>35.653217</td>\n",
              "      <td>139.711029</td>\n",
              "      <td>Tōkyō-to</td>\n",
              "      <td>Shibuya-ku</td>\n",
              "      <td>Higashi</td>\n",
              "    </tr>\n",
              "    <tr>\n",
              "      <th>252104</th>\n",
              "      <td>air_24e8414b9b07decb</td>\n",
              "      <td>2017-04-19</td>\n",
              "      <td>6</td>\n",
              "      <td>Wednesday</td>\n",
              "      <td>False</td>\n",
              "      <td>2017</td>\n",
              "      <td>4</td>\n",
              "      <td>19</td>\n",
              "      <td>Other</td>\n",
              "      <td>35.653217</td>\n",
              "      <td>139.711029</td>\n",
              "      <td>Tōkyō-to</td>\n",
              "      <td>Shibuya-ku</td>\n",
              "      <td>Higashi</td>\n",
              "    </tr>\n",
              "    <tr>\n",
              "      <th>252105</th>\n",
              "      <td>air_24e8414b9b07decb</td>\n",
              "      <td>2017-04-20</td>\n",
              "      <td>7</td>\n",
              "      <td>Thursday</td>\n",
              "      <td>False</td>\n",
              "      <td>2017</td>\n",
              "      <td>4</td>\n",
              "      <td>20</td>\n",
              "      <td>Other</td>\n",
              "      <td>35.653217</td>\n",
              "      <td>139.711029</td>\n",
              "      <td>Tōkyō-to</td>\n",
              "      <td>Shibuya-ku</td>\n",
              "      <td>Higashi</td>\n",
              "    </tr>\n",
              "    <tr>\n",
              "      <th>252106</th>\n",
              "      <td>air_24e8414b9b07decb</td>\n",
              "      <td>2017-04-21</td>\n",
              "      <td>8</td>\n",
              "      <td>Friday</td>\n",
              "      <td>False</td>\n",
              "      <td>2017</td>\n",
              "      <td>4</td>\n",
              "      <td>21</td>\n",
              "      <td>Other</td>\n",
              "      <td>35.653217</td>\n",
              "      <td>139.711029</td>\n",
              "      <td>Tōkyō-to</td>\n",
              "      <td>Shibuya-ku</td>\n",
              "      <td>Higashi</td>\n",
              "    </tr>\n",
              "    <tr>\n",
              "      <th>252107</th>\n",
              "      <td>air_24e8414b9b07decb</td>\n",
              "      <td>2017-04-22</td>\n",
              "      <td>5</td>\n",
              "      <td>Saturday</td>\n",
              "      <td>False</td>\n",
              "      <td>2017</td>\n",
              "      <td>4</td>\n",
              "      <td>22</td>\n",
              "      <td>Other</td>\n",
              "      <td>35.653217</td>\n",
              "      <td>139.711029</td>\n",
              "      <td>Tōkyō-to</td>\n",
              "      <td>Shibuya-ku</td>\n",
              "      <td>Higashi</td>\n",
              "    </tr>\n",
              "  </tbody>\n",
              "</table>\n",
              "<p>252108 rows × 14 columns</p>\n",
              "</div>"
            ],
            "text/plain": [
              "                air_store_id visit_date  ...  Municipality   District\n",
              "0       air_ba937bf13d40fb24 2016-01-13  ...     Minato-ku  Shibakōen\n",
              "1       air_ba937bf13d40fb24 2016-01-14  ...     Minato-ku  Shibakōen\n",
              "2       air_ba937bf13d40fb24 2016-01-15  ...     Minato-ku  Shibakōen\n",
              "3       air_ba937bf13d40fb24 2016-01-16  ...     Minato-ku  Shibakōen\n",
              "4       air_ba937bf13d40fb24 2016-01-18  ...     Minato-ku  Shibakōen\n",
              "...                      ...        ...  ...           ...        ...\n",
              "252103  air_24e8414b9b07decb 2017-04-18  ...    Shibuya-ku    Higashi\n",
              "252104  air_24e8414b9b07decb 2017-04-19  ...    Shibuya-ku    Higashi\n",
              "252105  air_24e8414b9b07decb 2017-04-20  ...    Shibuya-ku    Higashi\n",
              "252106  air_24e8414b9b07decb 2017-04-21  ...    Shibuya-ku    Higashi\n",
              "252107  air_24e8414b9b07decb 2017-04-22  ...    Shibuya-ku    Higashi\n",
              "\n",
              "[252108 rows x 14 columns]"
            ]
          },
          "metadata": {
            "tags": []
          },
          "execution_count": 29
        }
      ]
    },
    {
      "cell_type": "code",
      "metadata": {
        "colab": {
          "base_uri": "https://localhost:8080/",
          "height": 356
        },
        "id": "AWRCVLvDFKq-",
        "outputId": "ea191d1f-0320-464a-9be5-66b479e9003f"
      },
      "source": [
        "a = final_train.query(\"air_store_id == 'air_24e8414b9b07decb'\")\r\n",
        "b= final_train.groupby([\"month\"])[['visitors']].median()\r\n",
        "sns.lineplot(x = 'month', y = 'visitors',data = b)"
      ],
      "execution_count": 30,
      "outputs": [
        {
          "output_type": "execute_result",
          "data": {
            "text/plain": [
              "<matplotlib.axes._subplots.AxesSubplot at 0x7f14a0bc5c50>"
            ]
          },
          "metadata": {
            "tags": []
          },
          "execution_count": 30
        },
        {
          "output_type": "display_data",
          "data": {
            "image/png": "[encoded data removed]",
            "text/plain": [
              "<Figure size 720x360 with 1 Axes>"
            ]
          },
          "metadata": {
            "tags": []
          }
        }
      ]
    },
    {
      "cell_type": "code",
      "metadata": {
        "colab": {
          "base_uri": "https://localhost:8080/",
          "height": 439
        },
        "id": "HX9jFQPRF8SH",
        "outputId": "5b1de550-7956-43d8-8493-840ba153c558"
      },
      "source": [
        "a"
      ],
      "execution_count": 31,
      "outputs": [
        {
          "output_type": "execute_result",
          "data": {
            "text/html": [
              "<div>\n",
              "<style scoped>\n",
              "    .dataframe tbody tr th:only-of-type {\n",
              "        vertical-align: middle;\n",
              "    }\n",
              "\n",
              "    .dataframe tbody tr th {\n",
              "        vertical-align: top;\n",
              "    }\n",
              "\n",
              "    .dataframe thead th {\n",
              "        text-align: right;\n",
              "    }\n",
              "</style>\n",
              "<table border=\"1\" class=\"dataframe\">\n",
              "  <thead>\n",
              "    <tr style=\"text-align: right;\">\n",
              "      <th></th>\n",
              "      <th>air_store_id</th>\n",
              "      <th>visit_date</th>\n",
              "      <th>visitors</th>\n",
              "      <th>day_of_week</th>\n",
              "      <th>holiday_flg</th>\n",
              "      <th>year</th>\n",
              "      <th>month</th>\n",
              "      <th>day</th>\n",
              "      <th>air_genre_name</th>\n",
              "      <th>latitude</th>\n",
              "      <th>longitude</th>\n",
              "      <th>Prefecture</th>\n",
              "      <th>Municipality</th>\n",
              "      <th>District</th>\n",
              "    </tr>\n",
              "  </thead>\n",
              "  <tbody>\n",
              "    <tr>\n",
              "      <th>251874</th>\n",
              "      <td>air_24e8414b9b07decb</td>\n",
              "      <td>2016-07-01</td>\n",
              "      <td>7</td>\n",
              "      <td>Friday</td>\n",
              "      <td>False</td>\n",
              "      <td>2016</td>\n",
              "      <td>7</td>\n",
              "      <td>1</td>\n",
              "      <td>Other</td>\n",
              "      <td>35.653217</td>\n",
              "      <td>139.711029</td>\n",
              "      <td>Tōkyō-to</td>\n",
              "      <td>Shibuya-ku</td>\n",
              "      <td>Higashi</td>\n",
              "    </tr>\n",
              "    <tr>\n",
              "      <th>251875</th>\n",
              "      <td>air_24e8414b9b07decb</td>\n",
              "      <td>2016-07-02</td>\n",
              "      <td>4</td>\n",
              "      <td>Saturday</td>\n",
              "      <td>False</td>\n",
              "      <td>2016</td>\n",
              "      <td>7</td>\n",
              "      <td>2</td>\n",
              "      <td>Other</td>\n",
              "      <td>35.653217</td>\n",
              "      <td>139.711029</td>\n",
              "      <td>Tōkyō-to</td>\n",
              "      <td>Shibuya-ku</td>\n",
              "      <td>Higashi</td>\n",
              "    </tr>\n",
              "    <tr>\n",
              "      <th>251876</th>\n",
              "      <td>air_24e8414b9b07decb</td>\n",
              "      <td>2016-07-04</td>\n",
              "      <td>2</td>\n",
              "      <td>Monday</td>\n",
              "      <td>False</td>\n",
              "      <td>2016</td>\n",
              "      <td>7</td>\n",
              "      <td>4</td>\n",
              "      <td>Other</td>\n",
              "      <td>35.653217</td>\n",
              "      <td>139.711029</td>\n",
              "      <td>Tōkyō-to</td>\n",
              "      <td>Shibuya-ku</td>\n",
              "      <td>Higashi</td>\n",
              "    </tr>\n",
              "    <tr>\n",
              "      <th>251877</th>\n",
              "      <td>air_24e8414b9b07decb</td>\n",
              "      <td>2016-07-05</td>\n",
              "      <td>5</td>\n",
              "      <td>Tuesday</td>\n",
              "      <td>False</td>\n",
              "      <td>2016</td>\n",
              "      <td>7</td>\n",
              "      <td>5</td>\n",
              "      <td>Other</td>\n",
              "      <td>35.653217</td>\n",
              "      <td>139.711029</td>\n",
              "      <td>Tōkyō-to</td>\n",
              "      <td>Shibuya-ku</td>\n",
              "      <td>Higashi</td>\n",
              "    </tr>\n",
              "    <tr>\n",
              "      <th>251878</th>\n",
              "      <td>air_24e8414b9b07decb</td>\n",
              "      <td>2016-07-06</td>\n",
              "      <td>6</td>\n",
              "      <td>Wednesday</td>\n",
              "      <td>False</td>\n",
              "      <td>2016</td>\n",
              "      <td>7</td>\n",
              "      <td>6</td>\n",
              "      <td>Other</td>\n",
              "      <td>35.653217</td>\n",
              "      <td>139.711029</td>\n",
              "      <td>Tōkyō-to</td>\n",
              "      <td>Shibuya-ku</td>\n",
              "      <td>Higashi</td>\n",
              "    </tr>\n",
              "    <tr>\n",
              "      <th>...</th>\n",
              "      <td>...</td>\n",
              "      <td>...</td>\n",
              "      <td>...</td>\n",
              "      <td>...</td>\n",
              "      <td>...</td>\n",
              "      <td>...</td>\n",
              "      <td>...</td>\n",
              "      <td>...</td>\n",
              "      <td>...</td>\n",
              "      <td>...</td>\n",
              "      <td>...</td>\n",
              "      <td>...</td>\n",
              "      <td>...</td>\n",
              "      <td>...</td>\n",
              "    </tr>\n",
              "    <tr>\n",
              "      <th>252103</th>\n",
              "      <td>air_24e8414b9b07decb</td>\n",
              "      <td>2017-04-18</td>\n",
              "      <td>6</td>\n",
              "      <td>Tuesday</td>\n",
              "      <td>False</td>\n",
              "      <td>2017</td>\n",
              "      <td>4</td>\n",
              "      <td>18</td>\n",
              "      <td>Other</td>\n",
              "      <td>35.653217</td>\n",
              "      <td>139.711029</td>\n",
              "      <td>Tōkyō-to</td>\n",
              "      <td>Shibuya-ku</td>\n",
              "      <td>Higashi</td>\n",
              "    </tr>\n",
              "    <tr>\n",
              "      <th>252104</th>\n",
              "      <td>air_24e8414b9b07decb</td>\n",
              "      <td>2017-04-19</td>\n",
              "      <td>6</td>\n",
              "      <td>Wednesday</td>\n",
              "      <td>False</td>\n",
              "      <td>2017</td>\n",
              "      <td>4</td>\n",
              "      <td>19</td>\n",
              "      <td>Other</td>\n",
              "      <td>35.653217</td>\n",
              "      <td>139.711029</td>\n",
              "      <td>Tōkyō-to</td>\n",
              "      <td>Shibuya-ku</td>\n",
              "      <td>Higashi</td>\n",
              "    </tr>\n",
              "    <tr>\n",
              "      <th>252105</th>\n",
              "      <td>air_24e8414b9b07decb</td>\n",
              "      <td>2017-04-20</td>\n",
              "      <td>7</td>\n",
              "      <td>Thursday</td>\n",
              "      <td>False</td>\n",
              "      <td>2017</td>\n",
              "      <td>4</td>\n",
              "      <td>20</td>\n",
              "      <td>Other</td>\n",
              "      <td>35.653217</td>\n",
              "      <td>139.711029</td>\n",
              "      <td>Tōkyō-to</td>\n",
              "      <td>Shibuya-ku</td>\n",
              "      <td>Higashi</td>\n",
              "    </tr>\n",
              "    <tr>\n",
              "      <th>252106</th>\n",
              "      <td>air_24e8414b9b07decb</td>\n",
              "      <td>2017-04-21</td>\n",
              "      <td>8</td>\n",
              "      <td>Friday</td>\n",
              "      <td>False</td>\n",
              "      <td>2017</td>\n",
              "      <td>4</td>\n",
              "      <td>21</td>\n",
              "      <td>Other</td>\n",
              "      <td>35.653217</td>\n",
              "      <td>139.711029</td>\n",
              "      <td>Tōkyō-to</td>\n",
              "      <td>Shibuya-ku</td>\n",
              "      <td>Higashi</td>\n",
              "    </tr>\n",
              "    <tr>\n",
              "      <th>252107</th>\n",
              "      <td>air_24e8414b9b07decb</td>\n",
              "      <td>2017-04-22</td>\n",
              "      <td>5</td>\n",
              "      <td>Saturday</td>\n",
              "      <td>False</td>\n",
              "      <td>2017</td>\n",
              "      <td>4</td>\n",
              "      <td>22</td>\n",
              "      <td>Other</td>\n",
              "      <td>35.653217</td>\n",
              "      <td>139.711029</td>\n",
              "      <td>Tōkyō-to</td>\n",
              "      <td>Shibuya-ku</td>\n",
              "      <td>Higashi</td>\n",
              "    </tr>\n",
              "  </tbody>\n",
              "</table>\n",
              "<p>234 rows × 14 columns</p>\n",
              "</div>"
            ],
            "text/plain": [
              "                air_store_id visit_date  ...  Municipality District\n",
              "251874  air_24e8414b9b07decb 2016-07-01  ...    Shibuya-ku  Higashi\n",
              "251875  air_24e8414b9b07decb 2016-07-02  ...    Shibuya-ku  Higashi\n",
              "251876  air_24e8414b9b07decb 2016-07-04  ...    Shibuya-ku  Higashi\n",
              "251877  air_24e8414b9b07decb 2016-07-05  ...    Shibuya-ku  Higashi\n",
              "251878  air_24e8414b9b07decb 2016-07-06  ...    Shibuya-ku  Higashi\n",
              "...                      ...        ...  ...           ...      ...\n",
              "252103  air_24e8414b9b07decb 2017-04-18  ...    Shibuya-ku  Higashi\n",
              "252104  air_24e8414b9b07decb 2017-04-19  ...    Shibuya-ku  Higashi\n",
              "252105  air_24e8414b9b07decb 2017-04-20  ...    Shibuya-ku  Higashi\n",
              "252106  air_24e8414b9b07decb 2017-04-21  ...    Shibuya-ku  Higashi\n",
              "252107  air_24e8414b9b07decb 2017-04-22  ...    Shibuya-ku  Higashi\n",
              "\n",
              "[234 rows x 14 columns]"
            ]
          },
          "metadata": {
            "tags": []
          },
          "execution_count": 31
        }
      ]
    },
    {
      "cell_type": "code",
      "metadata": {
        "colab": {
          "base_uri": "https://localhost:8080/",
          "height": 439
        },
        "id": "0LMbBZWYFfRd",
        "outputId": "883a1be7-ab50-4797-8f39-718870c45e14"
      },
      "source": [
        "a"
      ],
      "execution_count": 32,
      "outputs": [
        {
          "output_type": "execute_result",
          "data": {
            "text/html": [
              "<div>\n",
              "<style scoped>\n",
              "    .dataframe tbody tr th:only-of-type {\n",
              "        vertical-align: middle;\n",
              "    }\n",
              "\n",
              "    .dataframe tbody tr th {\n",
              "        vertical-align: top;\n",
              "    }\n",
              "\n",
              "    .dataframe thead th {\n",
              "        text-align: right;\n",
              "    }\n",
              "</style>\n",
              "<table border=\"1\" class=\"dataframe\">\n",
              "  <thead>\n",
              "    <tr style=\"text-align: right;\">\n",
              "      <th></th>\n",
              "      <th>air_store_id</th>\n",
              "      <th>visit_date</th>\n",
              "      <th>visitors</th>\n",
              "      <th>day_of_week</th>\n",
              "      <th>holiday_flg</th>\n",
              "      <th>year</th>\n",
              "      <th>month</th>\n",
              "      <th>day</th>\n",
              "      <th>air_genre_name</th>\n",
              "      <th>latitude</th>\n",
              "      <th>longitude</th>\n",
              "      <th>Prefecture</th>\n",
              "      <th>Municipality</th>\n",
              "      <th>District</th>\n",
              "    </tr>\n",
              "  </thead>\n",
              "  <tbody>\n",
              "    <tr>\n",
              "      <th>251874</th>\n",
              "      <td>air_24e8414b9b07decb</td>\n",
              "      <td>2016-07-01</td>\n",
              "      <td>7</td>\n",
              "      <td>Friday</td>\n",
              "      <td>False</td>\n",
              "      <td>2016</td>\n",
              "      <td>7</td>\n",
              "      <td>1</td>\n",
              "      <td>Other</td>\n",
              "      <td>35.653217</td>\n",
              "      <td>139.711029</td>\n",
              "      <td>Tōkyō-to</td>\n",
              "      <td>Shibuya-ku</td>\n",
              "      <td>Higashi</td>\n",
              "    </tr>\n",
              "    <tr>\n",
              "      <th>251875</th>\n",
              "      <td>air_24e8414b9b07decb</td>\n",
              "      <td>2016-07-02</td>\n",
              "      <td>4</td>\n",
              "      <td>Saturday</td>\n",
              "      <td>False</td>\n",
              "      <td>2016</td>\n",
              "      <td>7</td>\n",
              "      <td>2</td>\n",
              "      <td>Other</td>\n",
              "      <td>35.653217</td>\n",
              "      <td>139.711029</td>\n",
              "      <td>Tōkyō-to</td>\n",
              "      <td>Shibuya-ku</td>\n",
              "      <td>Higashi</td>\n",
              "    </tr>\n",
              "    <tr>\n",
              "      <th>251876</th>\n",
              "      <td>air_24e8414b9b07decb</td>\n",
              "      <td>2016-07-04</td>\n",
              "      <td>2</td>\n",
              "      <td>Monday</td>\n",
              "      <td>False</td>\n",
              "      <td>2016</td>\n",
              "      <td>7</td>\n",
              "      <td>4</td>\n",
              "      <td>Other</td>\n",
              "      <td>35.653217</td>\n",
              "      <td>139.711029</td>\n",
              "      <td>Tōkyō-to</td>\n",
              "      <td>Shibuya-ku</td>\n",
              "      <td>Higashi</td>\n",
              "    </tr>\n",
              "    <tr>\n",
              "      <th>251877</th>\n",
              "      <td>air_24e8414b9b07decb</td>\n",
              "      <td>2016-07-05</td>\n",
              "      <td>5</td>\n",
              "      <td>Tuesday</td>\n",
              "      <td>False</td>\n",
              "      <td>2016</td>\n",
              "      <td>7</td>\n",
              "      <td>5</td>\n",
              "      <td>Other</td>\n",
              "      <td>35.653217</td>\n",
              "      <td>139.711029</td>\n",
              "      <td>Tōkyō-to</td>\n",
              "      <td>Shibuya-ku</td>\n",
              "      <td>Higashi</td>\n",
              "    </tr>\n",
              "    <tr>\n",
              "      <th>251878</th>\n",
              "      <td>air_24e8414b9b07decb</td>\n",
              "      <td>2016-07-06</td>\n",
              "      <td>6</td>\n",
              "      <td>Wednesday</td>\n",
              "      <td>False</td>\n",
              "      <td>2016</td>\n",
              "      <td>7</td>\n",
              "      <td>6</td>\n",
              "      <td>Other</td>\n",
              "      <td>35.653217</td>\n",
              "      <td>139.711029</td>\n",
              "      <td>Tōkyō-to</td>\n",
              "      <td>Shibuya-ku</td>\n",
              "      <td>Higashi</td>\n",
              "    </tr>\n",
              "    <tr>\n",
              "      <th>...</th>\n",
              "      <td>...</td>\n",
              "      <td>...</td>\n",
              "      <td>...</td>\n",
              "      <td>...</td>\n",
              "      <td>...</td>\n",
              "      <td>...</td>\n",
              "      <td>...</td>\n",
              "      <td>...</td>\n",
              "      <td>...</td>\n",
              "      <td>...</td>\n",
              "      <td>...</td>\n",
              "      <td>...</td>\n",
              "      <td>...</td>\n",
              "      <td>...</td>\n",
              "    </tr>\n",
              "    <tr>\n",
              "      <th>252103</th>\n",
              "      <td>air_24e8414b9b07decb</td>\n",
              "      <td>2017-04-18</td>\n",
              "      <td>6</td>\n",
              "      <td>Tuesday</td>\n",
              "      <td>False</td>\n",
              "      <td>2017</td>\n",
              "      <td>4</td>\n",
              "      <td>18</td>\n",
              "      <td>Other</td>\n",
              "      <td>35.653217</td>\n",
              "      <td>139.711029</td>\n",
              "      <td>Tōkyō-to</td>\n",
              "      <td>Shibuya-ku</td>\n",
              "      <td>Higashi</td>\n",
              "    </tr>\n",
              "    <tr>\n",
              "      <th>252104</th>\n",
              "      <td>air_24e8414b9b07decb</td>\n",
              "      <td>2017-04-19</td>\n",
              "      <td>6</td>\n",
              "      <td>Wednesday</td>\n",
              "      <td>False</td>\n",
              "      <td>2017</td>\n",
              "      <td>4</td>\n",
              "      <td>19</td>\n",
              "      <td>Other</td>\n",
              "      <td>35.653217</td>\n",
              "      <td>139.711029</td>\n",
              "      <td>Tōkyō-to</td>\n",
              "      <td>Shibuya-ku</td>\n",
              "      <td>Higashi</td>\n",
              "    </tr>\n",
              "    <tr>\n",
              "      <th>252105</th>\n",
              "      <td>air_24e8414b9b07decb</td>\n",
              "      <td>2017-04-20</td>\n",
              "      <td>7</td>\n",
              "      <td>Thursday</td>\n",
              "      <td>False</td>\n",
              "      <td>2017</td>\n",
              "      <td>4</td>\n",
              "      <td>20</td>\n",
              "      <td>Other</td>\n",
              "      <td>35.653217</td>\n",
              "      <td>139.711029</td>\n",
              "      <td>Tōkyō-to</td>\n",
              "      <td>Shibuya-ku</td>\n",
              "      <td>Higashi</td>\n",
              "    </tr>\n",
              "    <tr>\n",
              "      <th>252106</th>\n",
              "      <td>air_24e8414b9b07decb</td>\n",
              "      <td>2017-04-21</td>\n",
              "      <td>8</td>\n",
              "      <td>Friday</td>\n",
              "      <td>False</td>\n",
              "      <td>2017</td>\n",
              "      <td>4</td>\n",
              "      <td>21</td>\n",
              "      <td>Other</td>\n",
              "      <td>35.653217</td>\n",
              "      <td>139.711029</td>\n",
              "      <td>Tōkyō-to</td>\n",
              "      <td>Shibuya-ku</td>\n",
              "      <td>Higashi</td>\n",
              "    </tr>\n",
              "    <tr>\n",
              "      <th>252107</th>\n",
              "      <td>air_24e8414b9b07decb</td>\n",
              "      <td>2017-04-22</td>\n",
              "      <td>5</td>\n",
              "      <td>Saturday</td>\n",
              "      <td>False</td>\n",
              "      <td>2017</td>\n",
              "      <td>4</td>\n",
              "      <td>22</td>\n",
              "      <td>Other</td>\n",
              "      <td>35.653217</td>\n",
              "      <td>139.711029</td>\n",
              "      <td>Tōkyō-to</td>\n",
              "      <td>Shibuya-ku</td>\n",
              "      <td>Higashi</td>\n",
              "    </tr>\n",
              "  </tbody>\n",
              "</table>\n",
              "<p>234 rows × 14 columns</p>\n",
              "</div>"
            ],
            "text/plain": [
              "                air_store_id visit_date  ...  Municipality District\n",
              "251874  air_24e8414b9b07decb 2016-07-01  ...    Shibuya-ku  Higashi\n",
              "251875  air_24e8414b9b07decb 2016-07-02  ...    Shibuya-ku  Higashi\n",
              "251876  air_24e8414b9b07decb 2016-07-04  ...    Shibuya-ku  Higashi\n",
              "251877  air_24e8414b9b07decb 2016-07-05  ...    Shibuya-ku  Higashi\n",
              "251878  air_24e8414b9b07decb 2016-07-06  ...    Shibuya-ku  Higashi\n",
              "...                      ...        ...  ...           ...      ...\n",
              "252103  air_24e8414b9b07decb 2017-04-18  ...    Shibuya-ku  Higashi\n",
              "252104  air_24e8414b9b07decb 2017-04-19  ...    Shibuya-ku  Higashi\n",
              "252105  air_24e8414b9b07decb 2017-04-20  ...    Shibuya-ku  Higashi\n",
              "252106  air_24e8414b9b07decb 2017-04-21  ...    Shibuya-ku  Higashi\n",
              "252107  air_24e8414b9b07decb 2017-04-22  ...    Shibuya-ku  Higashi\n",
              "\n",
              "[234 rows x 14 columns]"
            ]
          },
          "metadata": {
            "tags": []
          },
          "execution_count": 32
        }
      ]
    },
    {
      "cell_type": "code",
      "metadata": {
        "id": "WgsBLhQn_5nq"
      },
      "source": [
        "final_train['holiday_flg'] = pd.Categorical(final_train[\"holiday_flg\"].values)\r\n"
      ],
      "execution_count": 33,
      "outputs": []
    },
    {
      "cell_type": "code",
      "metadata": {
        "colab": {
          "base_uri": "https://localhost:8080/",
          "height": 356
        },
        "id": "ZEaoda7nAdsa",
        "outputId": "571b7176-9948-4f74-8388-9622107f46b8"
      },
      "source": [
        "ax = sns.boxplot(x =\"holiday_flg\", y='visitors' , data= final_train)\r\n",
        "ax.set_ylim(0, 75)"
      ],
      "execution_count": 34,
      "outputs": [
        {
          "output_type": "execute_result",
          "data": {
            "text/plain": [
              "(0.0, 75.0)"
            ]
          },
          "metadata": {
            "tags": []
          },
          "execution_count": 34
        },
        {
          "output_type": "display_data",
          "data": {
            "image/png": "[encoded data removed]",
            "text/plain": [
              "<Figure size 720x360 with 1 Axes>"
            ]
          },
          "metadata": {
            "tags": []
          }
        }
      ]
    },
    {
      "cell_type": "code",
      "metadata": {
        "colab": {
          "base_uri": "https://localhost:8080/"
        },
        "id": "76wDHgQ-Fd5x",
        "outputId": "85dea106-13bf-48dd-ab03-04420f74ae8d"
      },
      "source": [
        "final_train.columns"
      ],
      "execution_count": 35,
      "outputs": [
        {
          "output_type": "execute_result",
          "data": {
            "text/plain": [
              "Index(['air_store_id', 'visit_date', 'visitors', 'day_of_week', 'holiday_flg',\n",
              "       'year', 'month', 'day', 'air_genre_name', 'latitude', 'longitude',\n",
              "       'Prefecture', 'Municipality', 'District'],\n",
              "      dtype='object')"
            ]
          },
          "metadata": {
            "tags": []
          },
          "execution_count": 35
        }
      ]
    },
    {
      "cell_type": "code",
      "metadata": {
        "colab": {
          "base_uri": "https://localhost:8080/",
          "height": 514
        },
        "id": "D3fvNfAQFd8G",
        "outputId": "dba3d1b2-2286-48d8-975f-c6cb470e0004"
      },
      "source": [
        "c = final_train.groupby(['day_of_week', 'holiday_flg'])[['visitors']].median()\r\n",
        "c"
      ],
      "execution_count": 36,
      "outputs": [
        {
          "output_type": "execute_result",
          "data": {
            "text/html": [
              "<div>\n",
              "<style scoped>\n",
              "    .dataframe tbody tr th:only-of-type {\n",
              "        vertical-align: middle;\n",
              "    }\n",
              "\n",
              "    .dataframe tbody tr th {\n",
              "        vertical-align: top;\n",
              "    }\n",
              "\n",
              "    .dataframe thead th {\n",
              "        text-align: right;\n",
              "    }\n",
              "</style>\n",
              "<table border=\"1\" class=\"dataframe\">\n",
              "  <thead>\n",
              "    <tr style=\"text-align: right;\">\n",
              "      <th></th>\n",
              "      <th></th>\n",
              "      <th>visitors</th>\n",
              "    </tr>\n",
              "    <tr>\n",
              "      <th>day_of_week</th>\n",
              "      <th>holiday_flg</th>\n",
              "      <th></th>\n",
              "    </tr>\n",
              "  </thead>\n",
              "  <tbody>\n",
              "    <tr>\n",
              "      <th rowspan=\"2\" valign=\"top\">Friday</th>\n",
              "      <th>False</th>\n",
              "      <td>19</td>\n",
              "    </tr>\n",
              "    <tr>\n",
              "      <th>True</th>\n",
              "      <td>23</td>\n",
              "    </tr>\n",
              "    <tr>\n",
              "      <th rowspan=\"2\" valign=\"top\">Monday</th>\n",
              "      <th>False</th>\n",
              "      <td>13</td>\n",
              "    </tr>\n",
              "    <tr>\n",
              "      <th>True</th>\n",
              "      <td>18</td>\n",
              "    </tr>\n",
              "    <tr>\n",
              "      <th rowspan=\"2\" valign=\"top\">Saturday</th>\n",
              "      <th>False</th>\n",
              "      <td>22</td>\n",
              "    </tr>\n",
              "    <tr>\n",
              "      <th>True</th>\n",
              "      <td>20</td>\n",
              "    </tr>\n",
              "    <tr>\n",
              "      <th rowspan=\"2\" valign=\"top\">Sunday</th>\n",
              "      <th>False</th>\n",
              "      <td>19</td>\n",
              "    </tr>\n",
              "    <tr>\n",
              "      <th>True</th>\n",
              "      <td>20</td>\n",
              "    </tr>\n",
              "    <tr>\n",
              "      <th rowspan=\"2\" valign=\"top\">Thursday</th>\n",
              "      <th>False</th>\n",
              "      <td>15</td>\n",
              "    </tr>\n",
              "    <tr>\n",
              "      <th>True</th>\n",
              "      <td>19</td>\n",
              "    </tr>\n",
              "    <tr>\n",
              "      <th rowspan=\"2\" valign=\"top\">Tuesday</th>\n",
              "      <th>False</th>\n",
              "      <td>14</td>\n",
              "    </tr>\n",
              "    <tr>\n",
              "      <th>True</th>\n",
              "      <td>22</td>\n",
              "    </tr>\n",
              "    <tr>\n",
              "      <th rowspan=\"2\" valign=\"top\">Wednesday</th>\n",
              "      <th>False</th>\n",
              "      <td>16</td>\n",
              "    </tr>\n",
              "    <tr>\n",
              "      <th>True</th>\n",
              "      <td>18</td>\n",
              "    </tr>\n",
              "  </tbody>\n",
              "</table>\n",
              "</div>"
            ],
            "text/plain": [
              "                         visitors\n",
              "day_of_week holiday_flg          \n",
              "Friday      False              19\n",
              "            True               23\n",
              "Monday      False              13\n",
              "            True               18\n",
              "Saturday    False              22\n",
              "            True               20\n",
              "Sunday      False              19\n",
              "            True               20\n",
              "Thursday    False              15\n",
              "            True               19\n",
              "Tuesday     False              14\n",
              "            True               22\n",
              "Wednesday   False              16\n",
              "            True               18"
            ]
          },
          "metadata": {
            "tags": []
          },
          "execution_count": 36
        }
      ]
    },
    {
      "cell_type": "code",
      "metadata": {
        "colab": {
          "base_uri": "https://localhost:8080/",
          "height": 356
        },
        "id": "4BPUvYhZRVyZ",
        "outputId": "4036647b-649b-4cda-8825-b7dd997e5748"
      },
      "source": [
        "sns.lineplot(x = 'day_of_week', y = 'visitors',hue = 'holiday_flg', data = c)"
      ],
      "execution_count": 37,
      "outputs": [
        {
          "output_type": "execute_result",
          "data": {
            "text/plain": [
              "<matplotlib.axes._subplots.AxesSubplot at 0x7f14a0abf9b0>"
            ]
          },
          "metadata": {
            "tags": []
          },
          "execution_count": 37
        },
        {
          "output_type": "display_data",
          "data": {
            "image/png": "[encoded data removed]",
            "text/plain": [
              "<Figure size 720x360 with 1 Axes>"
            ]
          },
          "metadata": {
            "tags": []
          }
        }
      ]
    },
    {
      "cell_type": "code",
      "metadata": {
        "colab": {
          "base_uri": "https://localhost:8080/"
        },
        "id": "r15tzXZgE_ve",
        "outputId": "4d2a9231-49ab-4a83-db9e-14152627ff5e"
      },
      "source": [
        "final_train['visitors'].median()"
      ],
      "execution_count": 38,
      "outputs": [
        {
          "output_type": "execute_result",
          "data": {
            "text/plain": [
              "17.0"
            ]
          },
          "metadata": {
            "tags": []
          },
          "execution_count": 38
        }
      ]
    },
    {
      "cell_type": "code",
      "metadata": {
        "id": "TQfKq1phQ2A5"
      },
      "source": [
        "def cyl_enc(value, max_value):\r\n",
        "  x_comp = np.cos(2*np.pi * value/max_value)\r\n",
        "  y_comp = np.sin(2*np.pi * value/max_value)\r\n",
        "  return x_comp, y_comp\r\n"
      ],
      "execution_count": 39,
      "outputs": []
    },
    {
      "cell_type": "code",
      "metadata": {
        "colab": {
          "base_uri": "https://localhost:8080/"
        },
        "id": "ryRQdHQe0tvp",
        "outputId": "21bdec10-3d3f-401d-d555-e6e5fd553be2"
      },
      "source": [
        "final_train.visit_date.astype(str)"
      ],
      "execution_count": 40,
      "outputs": [
        {
          "output_type": "execute_result",
          "data": {
            "text/plain": [
              "0         2016-01-13\n",
              "1         2016-01-14\n",
              "2         2016-01-15\n",
              "3         2016-01-16\n",
              "4         2016-01-18\n",
              "             ...    \n",
              "252103    2017-04-18\n",
              "252104    2017-04-19\n",
              "252105    2017-04-20\n",
              "252106    2017-04-21\n",
              "252107    2017-04-22\n",
              "Name: visit_date, Length: 252108, dtype: object"
            ]
          },
          "metadata": {
            "tags": []
          },
          "execution_count": 40
        }
      ]
    },
    {
      "cell_type": "code",
      "metadata": {
        "colab": {
          "base_uri": "https://localhost:8080/"
        },
        "id": "HWms6iuGzj9a",
        "outputId": "2f70e127-6440-4202-e938-e6fcf1300de4"
      },
      "source": [
        "cyl_enc(final_train.visit_date.dt.dayofweek.values, 6)"
      ],
      "execution_count": 41,
      "outputs": [
        {
          "output_type": "execute_result",
          "data": {
            "text/plain": [
              "(array([-0.5, -1. , -0.5, ..., -1. , -0.5,  0.5]),\n",
              " array([ 8.66025404e-01,  1.22464680e-16, -8.66025404e-01, ...,\n",
              "         1.22464680e-16, -8.66025404e-01, -8.66025404e-01]))"
            ]
          },
          "metadata": {
            "tags": []
          },
          "execution_count": 41
        }
      ]
    },
    {
      "cell_type": "code",
      "metadata": {
        "id": "LKvfmv170JhE"
      },
      "source": [
        "x, y = cyl_enc(final_train.visit_date.dt.month.values, 12)"
      ],
      "execution_count": 42,
      "outputs": []
    },
    {
      "cell_type": "code",
      "metadata": {
        "colab": {
          "base_uri": "https://localhost:8080/"
        },
        "id": "R10s4SzO15L6",
        "outputId": "187e8be3-e1c6-4304-ea9e-652ef3bdb719"
      },
      "source": [
        "x"
      ],
      "execution_count": 43,
      "outputs": [
        {
          "output_type": "execute_result",
          "data": {
            "text/plain": [
              "array([ 0.8660254,  0.8660254,  0.8660254, ..., -0.5      , -0.5      ,\n",
              "       -0.5      ])"
            ]
          },
          "metadata": {
            "tags": []
          },
          "execution_count": 43
        }
      ]
    },
    {
      "cell_type": "code",
      "metadata": {
        "colab": {
          "base_uri": "https://localhost:8080/",
          "height": 339
        },
        "id": "njFpDX511hvk",
        "outputId": "943f8706-ba55-457b-af7d-00a3174eaaec"
      },
      "source": [
        "sns.scatterplot(x = x[1:1000], y = y[1:1000])"
      ],
      "execution_count": 44,
      "outputs": [
        {
          "output_type": "execute_result",
          "data": {
            "text/plain": [
              "<matplotlib.axes._subplots.AxesSubplot at 0x7f14a0aae940>"
            ]
          },
          "metadata": {
            "tags": []
          },
          "execution_count": 44
        },
        {
          "output_type": "display_data",
          "data": {
            "image/png": "[encoded data removed]",
            "text/plain": [
              "<Figure size 720x360 with 1 Axes>"
            ]
          },
          "metadata": {
            "tags": []
          }
        }
      ]
    },
    {
      "cell_type": "code",
      "metadata": {
        "colab": {
          "base_uri": "https://localhost:8080/"
        },
        "id": "AyHxOihl2WnI",
        "outputId": "89f433ca-f078-47a1-bf0c-b8b9b612fea4"
      },
      "source": [
        "final_train.query(\"year == 2016\").groupby([\"month\"]).air_store_id.count()\r\n",
        "\r\n",
        "# Observation: The number of restaurants surveyed was increased after June 2016"
      ],
      "execution_count": 45,
      "outputs": [
        {
          "output_type": "execute_result",
          "data": {
            "text/plain": [
              "month\n",
              "1      7320\n",
              "2      7604\n",
              "3      8278\n",
              "4      8089\n",
              "5      8161\n",
              "6      8247\n",
              "7     21427\n",
              "8     20675\n",
              "9     20829\n",
              "10    21466\n",
              "11    20924\n",
              "12    21515\n",
              "Name: air_store_id, dtype: int64"
            ]
          },
          "metadata": {
            "tags": []
          },
          "execution_count": 45
        }
      ]
    },
    {
      "cell_type": "code",
      "metadata": {
        "colab": {
          "base_uri": "https://localhost:8080/",
          "height": 439
        },
        "id": "JwHoC_EE6DdL",
        "outputId": "085a146a-f12e-4319-bc73-bd245008016c"
      },
      "source": [
        "final_train"
      ],
      "execution_count": 46,
      "outputs": [
        {
          "output_type": "execute_result",
          "data": {
            "text/html": [
              "<div>\n",
              "<style scoped>\n",
              "    .dataframe tbody tr th:only-of-type {\n",
              "        vertical-align: middle;\n",
              "    }\n",
              "\n",
              "    .dataframe tbody tr th {\n",
              "        vertical-align: top;\n",
              "    }\n",
              "\n",
              "    .dataframe thead th {\n",
              "        text-align: right;\n",
              "    }\n",
              "</style>\n",
              "<table border=\"1\" class=\"dataframe\">\n",
              "  <thead>\n",
              "    <tr style=\"text-align: right;\">\n",
              "      <th></th>\n",
              "      <th>air_store_id</th>\n",
              "      <th>visit_date</th>\n",
              "      <th>visitors</th>\n",
              "      <th>day_of_week</th>\n",
              "      <th>holiday_flg</th>\n",
              "      <th>year</th>\n",
              "      <th>month</th>\n",
              "      <th>day</th>\n",
              "      <th>air_genre_name</th>\n",
              "      <th>latitude</th>\n",
              "      <th>longitude</th>\n",
              "      <th>Prefecture</th>\n",
              "      <th>Municipality</th>\n",
              "      <th>District</th>\n",
              "    </tr>\n",
              "  </thead>\n",
              "  <tbody>\n",
              "    <tr>\n",
              "      <th>0</th>\n",
              "      <td>air_ba937bf13d40fb24</td>\n",
              "      <td>2016-01-13</td>\n",
              "      <td>25</td>\n",
              "      <td>Wednesday</td>\n",
              "      <td>False</td>\n",
              "      <td>2016</td>\n",
              "      <td>1</td>\n",
              "      <td>13</td>\n",
              "      <td>Dining bar</td>\n",
              "      <td>35.658070</td>\n",
              "      <td>139.751602</td>\n",
              "      <td>Tōkyō-to</td>\n",
              "      <td>Minato-ku</td>\n",
              "      <td>Shibakōen</td>\n",
              "    </tr>\n",
              "    <tr>\n",
              "      <th>1</th>\n",
              "      <td>air_ba937bf13d40fb24</td>\n",
              "      <td>2016-01-14</td>\n",
              "      <td>32</td>\n",
              "      <td>Thursday</td>\n",
              "      <td>False</td>\n",
              "      <td>2016</td>\n",
              "      <td>1</td>\n",
              "      <td>14</td>\n",
              "      <td>Dining bar</td>\n",
              "      <td>35.658070</td>\n",
              "      <td>139.751602</td>\n",
              "      <td>Tōkyō-to</td>\n",
              "      <td>Minato-ku</td>\n",
              "      <td>Shibakōen</td>\n",
              "    </tr>\n",
              "    <tr>\n",
              "      <th>2</th>\n",
              "      <td>air_ba937bf13d40fb24</td>\n",
              "      <td>2016-01-15</td>\n",
              "      <td>29</td>\n",
              "      <td>Friday</td>\n",
              "      <td>False</td>\n",
              "      <td>2016</td>\n",
              "      <td>1</td>\n",
              "      <td>15</td>\n",
              "      <td>Dining bar</td>\n",
              "      <td>35.658070</td>\n",
              "      <td>139.751602</td>\n",
              "      <td>Tōkyō-to</td>\n",
              "      <td>Minato-ku</td>\n",
              "      <td>Shibakōen</td>\n",
              "    </tr>\n",
              "    <tr>\n",
              "      <th>3</th>\n",
              "      <td>air_ba937bf13d40fb24</td>\n",
              "      <td>2016-01-16</td>\n",
              "      <td>22</td>\n",
              "      <td>Saturday</td>\n",
              "      <td>False</td>\n",
              "      <td>2016</td>\n",
              "      <td>1</td>\n",
              "      <td>16</td>\n",
              "      <td>Dining bar</td>\n",
              "      <td>35.658070</td>\n",
              "      <td>139.751602</td>\n",
              "      <td>Tōkyō-to</td>\n",
              "      <td>Minato-ku</td>\n",
              "      <td>Shibakōen</td>\n",
              "    </tr>\n",
              "    <tr>\n",
              "      <th>4</th>\n",
              "      <td>air_ba937bf13d40fb24</td>\n",
              "      <td>2016-01-18</td>\n",
              "      <td>6</td>\n",
              "      <td>Monday</td>\n",
              "      <td>False</td>\n",
              "      <td>2016</td>\n",
              "      <td>1</td>\n",
              "      <td>18</td>\n",
              "      <td>Dining bar</td>\n",
              "      <td>35.658070</td>\n",
              "      <td>139.751602</td>\n",
              "      <td>Tōkyō-to</td>\n",
              "      <td>Minato-ku</td>\n",
              "      <td>Shibakōen</td>\n",
              "    </tr>\n",
              "    <tr>\n",
              "      <th>...</th>\n",
              "      <td>...</td>\n",
              "      <td>...</td>\n",
              "      <td>...</td>\n",
              "      <td>...</td>\n",
              "      <td>...</td>\n",
              "      <td>...</td>\n",
              "      <td>...</td>\n",
              "      <td>...</td>\n",
              "      <td>...</td>\n",
              "      <td>...</td>\n",
              "      <td>...</td>\n",
              "      <td>...</td>\n",
              "      <td>...</td>\n",
              "      <td>...</td>\n",
              "    </tr>\n",
              "    <tr>\n",
              "      <th>252103</th>\n",
              "      <td>air_24e8414b9b07decb</td>\n",
              "      <td>2017-04-18</td>\n",
              "      <td>6</td>\n",
              "      <td>Tuesday</td>\n",
              "      <td>False</td>\n",
              "      <td>2017</td>\n",
              "      <td>4</td>\n",
              "      <td>18</td>\n",
              "      <td>Other</td>\n",
              "      <td>35.653217</td>\n",
              "      <td>139.711029</td>\n",
              "      <td>Tōkyō-to</td>\n",
              "      <td>Shibuya-ku</td>\n",
              "      <td>Higashi</td>\n",
              "    </tr>\n",
              "    <tr>\n",
              "      <th>252104</th>\n",
              "      <td>air_24e8414b9b07decb</td>\n",
              "      <td>2017-04-19</td>\n",
              "      <td>6</td>\n",
              "      <td>Wednesday</td>\n",
              "      <td>False</td>\n",
              "      <td>2017</td>\n",
              "      <td>4</td>\n",
              "      <td>19</td>\n",
              "      <td>Other</td>\n",
              "      <td>35.653217</td>\n",
              "      <td>139.711029</td>\n",
              "      <td>Tōkyō-to</td>\n",
              "      <td>Shibuya-ku</td>\n",
              "      <td>Higashi</td>\n",
              "    </tr>\n",
              "    <tr>\n",
              "      <th>252105</th>\n",
              "      <td>air_24e8414b9b07decb</td>\n",
              "      <td>2017-04-20</td>\n",
              "      <td>7</td>\n",
              "      <td>Thursday</td>\n",
              "      <td>False</td>\n",
              "      <td>2017</td>\n",
              "      <td>4</td>\n",
              "      <td>20</td>\n",
              "      <td>Other</td>\n",
              "      <td>35.653217</td>\n",
              "      <td>139.711029</td>\n",
              "      <td>Tōkyō-to</td>\n",
              "      <td>Shibuya-ku</td>\n",
              "      <td>Higashi</td>\n",
              "    </tr>\n",
              "    <tr>\n",
              "      <th>252106</th>\n",
              "      <td>air_24e8414b9b07decb</td>\n",
              "      <td>2017-04-21</td>\n",
              "      <td>8</td>\n",
              "      <td>Friday</td>\n",
              "      <td>False</td>\n",
              "      <td>2017</td>\n",
              "      <td>4</td>\n",
              "      <td>21</td>\n",
              "      <td>Other</td>\n",
              "      <td>35.653217</td>\n",
              "      <td>139.711029</td>\n",
              "      <td>Tōkyō-to</td>\n",
              "      <td>Shibuya-ku</td>\n",
              "      <td>Higashi</td>\n",
              "    </tr>\n",
              "    <tr>\n",
              "      <th>252107</th>\n",
              "      <td>air_24e8414b9b07decb</td>\n",
              "      <td>2017-04-22</td>\n",
              "      <td>5</td>\n",
              "      <td>Saturday</td>\n",
              "      <td>False</td>\n",
              "      <td>2017</td>\n",
              "      <td>4</td>\n",
              "      <td>22</td>\n",
              "      <td>Other</td>\n",
              "      <td>35.653217</td>\n",
              "      <td>139.711029</td>\n",
              "      <td>Tōkyō-to</td>\n",
              "      <td>Shibuya-ku</td>\n",
              "      <td>Higashi</td>\n",
              "    </tr>\n",
              "  </tbody>\n",
              "</table>\n",
              "<p>252108 rows × 14 columns</p>\n",
              "</div>"
            ],
            "text/plain": [
              "                air_store_id visit_date  ...  Municipality   District\n",
              "0       air_ba937bf13d40fb24 2016-01-13  ...     Minato-ku  Shibakōen\n",
              "1       air_ba937bf13d40fb24 2016-01-14  ...     Minato-ku  Shibakōen\n",
              "2       air_ba937bf13d40fb24 2016-01-15  ...     Minato-ku  Shibakōen\n",
              "3       air_ba937bf13d40fb24 2016-01-16  ...     Minato-ku  Shibakōen\n",
              "4       air_ba937bf13d40fb24 2016-01-18  ...     Minato-ku  Shibakōen\n",
              "...                      ...        ...  ...           ...        ...\n",
              "252103  air_24e8414b9b07decb 2017-04-18  ...    Shibuya-ku    Higashi\n",
              "252104  air_24e8414b9b07decb 2017-04-19  ...    Shibuya-ku    Higashi\n",
              "252105  air_24e8414b9b07decb 2017-04-20  ...    Shibuya-ku    Higashi\n",
              "252106  air_24e8414b9b07decb 2017-04-21  ...    Shibuya-ku    Higashi\n",
              "252107  air_24e8414b9b07decb 2017-04-22  ...    Shibuya-ku    Higashi\n",
              "\n",
              "[252108 rows x 14 columns]"
            ]
          },
          "metadata": {
            "tags": []
          },
          "execution_count": 46
        }
      ]
    },
    {
      "cell_type": "code",
      "metadata": {
        "colab": {
          "base_uri": "https://localhost:8080/"
        },
        "id": "uVyJRaeM6m-M",
        "outputId": "4ee64808-5e25-41ca-8ad0-49ebdf263cb6"
      },
      "source": [
        "final_train.air_store_id.value_counts()"
      ],
      "execution_count": 47,
      "outputs": [
        {
          "output_type": "execute_result",
          "data": {
            "text/plain": [
              "air_5c817ef28f236bdf    477\n",
              "air_a083834e7ffe187e    476\n",
              "air_d97dabf7aae60da5    476\n",
              "air_36bcf77d3382d36e    476\n",
              "air_60a7057184ec7ec7    475\n",
              "                       ... \n",
              "air_1c0b150f9e696a5f     51\n",
              "air_a17f0778617c76e2     47\n",
              "air_789103bf53b8096b     41\n",
              "air_a9a380530c1e121f     40\n",
              "air_900d755ebd2f7bbd     20\n",
              "Name: air_store_id, Length: 829, dtype: int64"
            ]
          },
          "metadata": {
            "tags": []
          },
          "execution_count": 47
        }
      ]
    },
    {
      "cell_type": "code",
      "metadata": {
        "colab": {
          "base_uri": "https://localhost:8080/",
          "height": 357
        },
        "id": "MlxI80PT5tLZ",
        "outputId": "9180678b-0977-4073-e1ba-68cdde3574cf"
      },
      "source": [
        "z = final_train.query(\"air_store_id == 'air_60a7057184ec7ec7'\")\r\n",
        "sns.lineplot(x = \"visit_date\", y = \"visitors\" , data=z)"
      ],
      "execution_count": 48,
      "outputs": [
        {
          "output_type": "execute_result",
          "data": {
            "text/plain": [
              "<matplotlib.axes._subplots.AxesSubplot at 0x7f149fa5e9e8>"
            ]
          },
          "metadata": {
            "tags": []
          },
          "execution_count": 48
        },
        {
          "output_type": "display_data",
          "data": {
            "image/png": "[encoded data removed]",
            "text/plain": [
              "<Figure size 720x360 with 1 Axes>"
            ]
          },
          "metadata": {
            "tags": []
          }
        }
      ]
    },
    {
      "cell_type": "code",
      "metadata": {
        "id": "ULoYYcQe7WPF"
      },
      "source": [
        "final_train.air_store_id = final_train.air_store_id.astype('category')"
      ],
      "execution_count": 49,
      "outputs": []
    },
    {
      "cell_type": "code",
      "metadata": {
        "colab": {
          "base_uri": "https://localhost:8080/"
        },
        "id": "IYIpWMp87jUy",
        "outputId": "f991008b-abd3-4854-ecd4-4c91a3914437"
      },
      "source": [
        "final_train.info()"
      ],
      "execution_count": 50,
      "outputs": [
        {
          "output_type": "stream",
          "text": [
            "<class 'pandas.core.frame.DataFrame'>\n",
            "Int64Index: 252108 entries, 0 to 252107\n",
            "Data columns (total 14 columns):\n",
            " #   Column          Non-Null Count   Dtype         \n",
            "---  ------          --------------   -----         \n",
            " 0   air_store_id    252108 non-null  category      \n",
            " 1   visit_date      252108 non-null  datetime64[ns]\n",
            " 2   visitors        252108 non-null  int32         \n",
            " 3   day_of_week     252108 non-null  object        \n",
            " 4   holiday_flg     252108 non-null  category      \n",
            " 5   year            252108 non-null  int64         \n",
            " 6   month           252108 non-null  int64         \n",
            " 7   day             252108 non-null  int64         \n",
            " 8   air_genre_name  252108 non-null  object        \n",
            " 9   latitude        252108 non-null  float32       \n",
            " 10  longitude       252108 non-null  float32       \n",
            " 11  Prefecture      252108 non-null  object        \n",
            " 12  Municipality    252108 non-null  object        \n",
            " 13  District        252108 non-null  object        \n",
            "dtypes: category(2), datetime64[ns](1), float32(2), int32(1), int64(3), object(5)\n",
            "memory usage: 32.9+ MB\n"
          ],
          "name": "stdout"
        }
      ]
    },
    {
      "cell_type": "code",
      "metadata": {
        "id": "STeyzJDy8Yga"
      },
      "source": [
        "x_dow, y_dow = cyl_enc(final_train.visit_date.dt.dayofweek.values, 6)"
      ],
      "execution_count": 51,
      "outputs": []
    },
    {
      "cell_type": "code",
      "metadata": {
        "id": "_TGQdr379VYL"
      },
      "source": [
        "final_train['x_dow'] = x_dow\r\n",
        "final_train['y_dow'] = y_dow\r\n"
      ],
      "execution_count": 52,
      "outputs": []
    },
    {
      "cell_type": "code",
      "metadata": {
        "id": "cnVWNTtQ9nM3"
      },
      "source": [
        "x_mon, y_mon = cyl_enc(final_train.visit_date.dt.month.values, 12)\r\n",
        "final_train['x_mon'] = x_mon\r\n",
        "final_train['y_mon'] = y_mon"
      ],
      "execution_count": 53,
      "outputs": []
    },
    {
      "cell_type": "code",
      "metadata": {
        "id": "M9wXRa1E9hRJ"
      },
      "source": [
        "final_train.drop(columns = ['visit_date', 'day_of_week', 'year', 'month', 'day'], inplace= True)"
      ],
      "execution_count": 54,
      "outputs": []
    },
    {
      "cell_type": "code",
      "metadata": {
        "colab": {
          "base_uri": "https://localhost:8080/",
          "height": 507
        },
        "id": "5LFlM_W0-ppe",
        "outputId": "72158685-50b6-4cc2-c548-32e8b457ee10"
      },
      "source": [
        "final_train"
      ],
      "execution_count": 55,
      "outputs": [
        {
          "output_type": "execute_result",
          "data": {
            "text/html": [
              "<div>\n",
              "<style scoped>\n",
              "    .dataframe tbody tr th:only-of-type {\n",
              "        vertical-align: middle;\n",
              "    }\n",
              "\n",
              "    .dataframe tbody tr th {\n",
              "        vertical-align: top;\n",
              "    }\n",
              "\n",
              "    .dataframe thead th {\n",
              "        text-align: right;\n",
              "    }\n",
              "</style>\n",
              "<table border=\"1\" class=\"dataframe\">\n",
              "  <thead>\n",
              "    <tr style=\"text-align: right;\">\n",
              "      <th></th>\n",
              "      <th>air_store_id</th>\n",
              "      <th>visitors</th>\n",
              "      <th>holiday_flg</th>\n",
              "      <th>air_genre_name</th>\n",
              "      <th>latitude</th>\n",
              "      <th>longitude</th>\n",
              "      <th>Prefecture</th>\n",
              "      <th>Municipality</th>\n",
              "      <th>District</th>\n",
              "      <th>x_dow</th>\n",
              "      <th>y_dow</th>\n",
              "      <th>x_mon</th>\n",
              "      <th>y_mon</th>\n",
              "    </tr>\n",
              "  </thead>\n",
              "  <tbody>\n",
              "    <tr>\n",
              "      <th>0</th>\n",
              "      <td>air_ba937bf13d40fb24</td>\n",
              "      <td>25</td>\n",
              "      <td>False</td>\n",
              "      <td>Dining bar</td>\n",
              "      <td>35.658070</td>\n",
              "      <td>139.751602</td>\n",
              "      <td>Tōkyō-to</td>\n",
              "      <td>Minato-ku</td>\n",
              "      <td>Shibakōen</td>\n",
              "      <td>-0.5</td>\n",
              "      <td>8.660254e-01</td>\n",
              "      <td>0.866025</td>\n",
              "      <td>0.500000</td>\n",
              "    </tr>\n",
              "    <tr>\n",
              "      <th>1</th>\n",
              "      <td>air_ba937bf13d40fb24</td>\n",
              "      <td>32</td>\n",
              "      <td>False</td>\n",
              "      <td>Dining bar</td>\n",
              "      <td>35.658070</td>\n",
              "      <td>139.751602</td>\n",
              "      <td>Tōkyō-to</td>\n",
              "      <td>Minato-ku</td>\n",
              "      <td>Shibakōen</td>\n",
              "      <td>-1.0</td>\n",
              "      <td>1.224647e-16</td>\n",
              "      <td>0.866025</td>\n",
              "      <td>0.500000</td>\n",
              "    </tr>\n",
              "    <tr>\n",
              "      <th>2</th>\n",
              "      <td>air_ba937bf13d40fb24</td>\n",
              "      <td>29</td>\n",
              "      <td>False</td>\n",
              "      <td>Dining bar</td>\n",
              "      <td>35.658070</td>\n",
              "      <td>139.751602</td>\n",
              "      <td>Tōkyō-to</td>\n",
              "      <td>Minato-ku</td>\n",
              "      <td>Shibakōen</td>\n",
              "      <td>-0.5</td>\n",
              "      <td>-8.660254e-01</td>\n",
              "      <td>0.866025</td>\n",
              "      <td>0.500000</td>\n",
              "    </tr>\n",
              "    <tr>\n",
              "      <th>3</th>\n",
              "      <td>air_ba937bf13d40fb24</td>\n",
              "      <td>22</td>\n",
              "      <td>False</td>\n",
              "      <td>Dining bar</td>\n",
              "      <td>35.658070</td>\n",
              "      <td>139.751602</td>\n",
              "      <td>Tōkyō-to</td>\n",
              "      <td>Minato-ku</td>\n",
              "      <td>Shibakōen</td>\n",
              "      <td>0.5</td>\n",
              "      <td>-8.660254e-01</td>\n",
              "      <td>0.866025</td>\n",
              "      <td>0.500000</td>\n",
              "    </tr>\n",
              "    <tr>\n",
              "      <th>4</th>\n",
              "      <td>air_ba937bf13d40fb24</td>\n",
              "      <td>6</td>\n",
              "      <td>False</td>\n",
              "      <td>Dining bar</td>\n",
              "      <td>35.658070</td>\n",
              "      <td>139.751602</td>\n",
              "      <td>Tōkyō-to</td>\n",
              "      <td>Minato-ku</td>\n",
              "      <td>Shibakōen</td>\n",
              "      <td>1.0</td>\n",
              "      <td>0.000000e+00</td>\n",
              "      <td>0.866025</td>\n",
              "      <td>0.500000</td>\n",
              "    </tr>\n",
              "    <tr>\n",
              "      <th>...</th>\n",
              "      <td>...</td>\n",
              "      <td>...</td>\n",
              "      <td>...</td>\n",
              "      <td>...</td>\n",
              "      <td>...</td>\n",
              "      <td>...</td>\n",
              "      <td>...</td>\n",
              "      <td>...</td>\n",
              "      <td>...</td>\n",
              "      <td>...</td>\n",
              "      <td>...</td>\n",
              "      <td>...</td>\n",
              "      <td>...</td>\n",
              "    </tr>\n",
              "    <tr>\n",
              "      <th>252103</th>\n",
              "      <td>air_24e8414b9b07decb</td>\n",
              "      <td>6</td>\n",
              "      <td>False</td>\n",
              "      <td>Other</td>\n",
              "      <td>35.653217</td>\n",
              "      <td>139.711029</td>\n",
              "      <td>Tōkyō-to</td>\n",
              "      <td>Shibuya-ku</td>\n",
              "      <td>Higashi</td>\n",
              "      <td>0.5</td>\n",
              "      <td>8.660254e-01</td>\n",
              "      <td>-0.500000</td>\n",
              "      <td>0.866025</td>\n",
              "    </tr>\n",
              "    <tr>\n",
              "      <th>252104</th>\n",
              "      <td>air_24e8414b9b07decb</td>\n",
              "      <td>6</td>\n",
              "      <td>False</td>\n",
              "      <td>Other</td>\n",
              "      <td>35.653217</td>\n",
              "      <td>139.711029</td>\n",
              "      <td>Tōkyō-to</td>\n",
              "      <td>Shibuya-ku</td>\n",
              "      <td>Higashi</td>\n",
              "      <td>-0.5</td>\n",
              "      <td>8.660254e-01</td>\n",
              "      <td>-0.500000</td>\n",
              "      <td>0.866025</td>\n",
              "    </tr>\n",
              "    <tr>\n",
              "      <th>252105</th>\n",
              "      <td>air_24e8414b9b07decb</td>\n",
              "      <td>7</td>\n",
              "      <td>False</td>\n",
              "      <td>Other</td>\n",
              "      <td>35.653217</td>\n",
              "      <td>139.711029</td>\n",
              "      <td>Tōkyō-to</td>\n",
              "      <td>Shibuya-ku</td>\n",
              "      <td>Higashi</td>\n",
              "      <td>-1.0</td>\n",
              "      <td>1.224647e-16</td>\n",
              "      <td>-0.500000</td>\n",
              "      <td>0.866025</td>\n",
              "    </tr>\n",
              "    <tr>\n",
              "      <th>252106</th>\n",
              "      <td>air_24e8414b9b07decb</td>\n",
              "      <td>8</td>\n",
              "      <td>False</td>\n",
              "      <td>Other</td>\n",
              "      <td>35.653217</td>\n",
              "      <td>139.711029</td>\n",
              "      <td>Tōkyō-to</td>\n",
              "      <td>Shibuya-ku</td>\n",
              "      <td>Higashi</td>\n",
              "      <td>-0.5</td>\n",
              "      <td>-8.660254e-01</td>\n",
              "      <td>-0.500000</td>\n",
              "      <td>0.866025</td>\n",
              "    </tr>\n",
              "    <tr>\n",
              "      <th>252107</th>\n",
              "      <td>air_24e8414b9b07decb</td>\n",
              "      <td>5</td>\n",
              "      <td>False</td>\n",
              "      <td>Other</td>\n",
              "      <td>35.653217</td>\n",
              "      <td>139.711029</td>\n",
              "      <td>Tōkyō-to</td>\n",
              "      <td>Shibuya-ku</td>\n",
              "      <td>Higashi</td>\n",
              "      <td>0.5</td>\n",
              "      <td>-8.660254e-01</td>\n",
              "      <td>-0.500000</td>\n",
              "      <td>0.866025</td>\n",
              "    </tr>\n",
              "  </tbody>\n",
              "</table>\n",
              "<p>252108 rows × 13 columns</p>\n",
              "</div>"
            ],
            "text/plain": [
              "                air_store_id  visitors  ...     x_mon     y_mon\n",
              "0       air_ba937bf13d40fb24        25  ...  0.866025  0.500000\n",
              "1       air_ba937bf13d40fb24        32  ...  0.866025  0.500000\n",
              "2       air_ba937bf13d40fb24        29  ...  0.866025  0.500000\n",
              "3       air_ba937bf13d40fb24        22  ...  0.866025  0.500000\n",
              "4       air_ba937bf13d40fb24         6  ...  0.866025  0.500000\n",
              "...                      ...       ...  ...       ...       ...\n",
              "252103  air_24e8414b9b07decb         6  ... -0.500000  0.866025\n",
              "252104  air_24e8414b9b07decb         6  ... -0.500000  0.866025\n",
              "252105  air_24e8414b9b07decb         7  ... -0.500000  0.866025\n",
              "252106  air_24e8414b9b07decb         8  ... -0.500000  0.866025\n",
              "252107  air_24e8414b9b07decb         5  ... -0.500000  0.866025\n",
              "\n",
              "[252108 rows x 13 columns]"
            ]
          },
          "metadata": {
            "tags": []
          },
          "execution_count": 55
        }
      ]
    },
    {
      "cell_type": "code",
      "metadata": {
        "id": "5IgcuWzf-e-T"
      },
      "source": [
        "final_train.air_genre_name = final_train.air_genre_name.astype('category')\r\n",
        "final_train.Prefecture = final_train.Prefecture.astype('category')\r\n",
        "final_train.Municipality = final_train.Municipality.astype('category')\r\n",
        "final_train.District = final_train.District.astype('category')"
      ],
      "execution_count": 56,
      "outputs": []
    },
    {
      "cell_type": "code",
      "metadata": {
        "colab": {
          "base_uri": "https://localhost:8080/"
        },
        "id": "y7ZltS1d_WF8",
        "outputId": "3e096fef-b643-47ac-d1f4-13fa03459cc6"
      },
      "source": [
        "final_train.info()"
      ],
      "execution_count": 57,
      "outputs": [
        {
          "output_type": "stream",
          "text": [
            "<class 'pandas.core.frame.DataFrame'>\n",
            "Int64Index: 252108 entries, 0 to 252107\n",
            "Data columns (total 13 columns):\n",
            " #   Column          Non-Null Count   Dtype   \n",
            "---  ------          --------------   -----   \n",
            " 0   air_store_id    252108 non-null  category\n",
            " 1   visitors        252108 non-null  int32   \n",
            " 2   holiday_flg     252108 non-null  category\n",
            " 3   air_genre_name  252108 non-null  category\n",
            " 4   latitude        252108 non-null  float32 \n",
            " 5   longitude       252108 non-null  float32 \n",
            " 6   Prefecture      252108 non-null  category\n",
            " 7   Municipality    252108 non-null  category\n",
            " 8   District        252108 non-null  category\n",
            " 9   x_dow           252108 non-null  float64 \n",
            " 10  y_dow           252108 non-null  float64 \n",
            " 11  x_mon           252108 non-null  float64 \n",
            " 12  y_mon           252108 non-null  float64 \n",
            "dtypes: category(6), float32(2), float64(4), int32(1)\n",
            "memory usage: 24.2 MB\n"
          ],
          "name": "stdout"
        }
      ]
    },
    {
      "cell_type": "code",
      "metadata": {
        "id": "GSS-y8LlCjhl"
      },
      "source": [
        "x = final_train.drop(columns = 'visitors')\r\n",
        "y = final_train[\"visitors\"]"
      ],
      "execution_count": 59,
      "outputs": []
    },
    {
      "cell_type": "code",
      "metadata": {
        "id": "95C3if9j_1Rj"
      },
      "source": [
        "train_data = lgb.Dataset(x, label=y)"
      ],
      "execution_count": 60,
      "outputs": []
    },
    {
      "cell_type": "code",
      "metadata": {
        "id": "5aPGZxXoAsQu"
      },
      "source": [
        "param = {'num_leaves': 31, 'objective':'regression', 'metric': 'l2'}\r\n"
      ],
      "execution_count": 61,
      "outputs": []
    },
    {
      "cell_type": "code",
      "metadata": {
        "id": "MLb_xV9rAbcT"
      },
      "source": [
        "num_round = 200\r\n",
        "bst = lgb.train(param, train_data, num_round, verbose_eval=1)"
      ],
      "execution_count": 62,
      "outputs": []
    },
    {
      "cell_type": "code",
      "metadata": {
        "colab": {
          "base_uri": "https://localhost:8080/"
        },
        "id": "s-hySlelAbf5",
        "outputId": "4be0f32a-04d5-4214-c1d3-16afb3bbcae5"
      },
      "source": [
        "bst"
      ],
      "execution_count": 63,
      "outputs": [
        {
          "output_type": "execute_result",
          "data": {
            "text/plain": [
              "<lightgbm.basic.Booster at 0x7f149dff4978>"
            ]
          },
          "metadata": {
            "tags": []
          },
          "execution_count": 63
        }
      ]
    },
    {
      "cell_type": "code",
      "metadata": {
        "colab": {
          "base_uri": "https://localhost:8080/",
          "height": 372
        },
        "id": "R2aYTdOWAbj1",
        "outputId": "ab055182-9563-4f6d-c7b3-61fc13c7f0c4"
      },
      "source": [
        "lgb.plot_importance(bst)"
      ],
      "execution_count": 64,
      "outputs": [
        {
          "output_type": "execute_result",
          "data": {
            "text/plain": [
              "<matplotlib.axes._subplots.AxesSubplot at 0x7f149d6a7f28>"
            ]
          },
          "metadata": {
            "tags": []
          },
          "execution_count": 64
        },
        {
          "output_type": "display_data",
          "data": {
            "image/png": "[encoded data removed]",
            "text/plain": [
              "<Figure size 720x360 with 1 Axes>"
            ]
          },
          "metadata": {
            "tags": []
          }
        }
      ]
    },
    {
      "cell_type": "code",
      "metadata": {
        "id": "5Vdee4RfiJCX"
      },
      "source": [
        "final_train.to_csv(\"recruit_data.csv\")"
      ],
      "execution_count": 66,
      "outputs": []
    },
    {
      "cell_type": "code",
      "metadata": {
        "id": "sKaCZo6ZIOB1"
      },
      "source": [
        "final_train.to_csv(\"recruit_data.csv.gz\")"
      ],
      "execution_count": null,
      "outputs": []
    }
  ]
}